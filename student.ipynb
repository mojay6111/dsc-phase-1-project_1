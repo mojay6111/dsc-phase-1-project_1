{
 "cells": [
  {
   "cell_type": "markdown",
   "metadata": {},
   "source": [
    "## Final Project Submission\n",
    "\n",
    "Please fill out:\n",
    "* Student name: George Mochama Edwin\n",
    "* Student pace: Part time\n",
    "* Scheduled project review date/time: 08/09/2024\n",
    "* Instructor name: Mr William Okomba\n",
    "* Blog post URL: https://github.com/mojay6111/dsc-phase-1-project_1/tree/master\n"
   ]
  },
  {
   "cell_type": "markdown",
   "metadata": {},
   "source": [
    "# OVERVIEW\n",
    "\n",
    "## Business Problem\n",
    "\n",
    "Your company is expanding in to new industries to diversify its portfolio. Specifically, they are interested in purchasing and operating airplanes for commercial and private enterprises, but do not know anything about the potential risks of aircraft. You are charged with determining which aircraft are the lowest risk for the company to start this new business endeavor. You must then translate your findings into actionable insights that the head of the new aviation division can use to help decide which aircraft to purchase.\n"
   ]
  },
  {
   "cell_type": "markdown",
   "metadata": {},
   "source": [
    "# Business Understanding\n",
    "As we expand into the aviation industry, I recognize the importance of thoroughly understanding the risks associated with purchasing and operating aircraft for both commercial and private enterprises. To ensure our success and minimize potential hazards, I will use the CRISP-DM methodology to systematically analyze aviation risks. My focus will be on identifying the aircraft with the lowest risk, predicting which models are more likely to be involved in accidents, and examining the environmental and operational factors that contribute to these risks.\n",
    "\n",
    "To achieve this, I will gather and analyze data on aircraft specifications, safety records, incident reports, and more. By applying advanced modeling techniques, I’ll be able to provide actionable insights that will guide our decisions on which aircraft to purchase and how to operate them safely. Ultimately, my goal is to deliver clear, data-driven recommendations that will help us confidently enter the aviation industry while ensuring the highest level of safety and operational efficiency.\n",
    "\n",
    "## Objectives\n",
    "* To determine which aircraft/make have the lowest risk for our company.\n",
    "* To identify aircraft models most likely to be involved in accidents.\n",
    "* To pinpoint locations or environments where incidents happen more frequently to guide our operational decisions.\n",
    "* To evaluate whether we should invest in amateur-built aircraft.\n",
    "* To analyze the dataset to find aircraft types with the lowest incident and accident rates.\n",
    "* To determine the key factors that contribute to aviation risks, such as weather, flight phase, and aircraft age.\n",
    "* To examine the purpose of the flight to see how it affects risk levels.\n",
    "\n",
    "# Questions To Consider\n",
    "* What specific criteria define \"low risk\" for aircraft, and how should these criteria be prioritized.\n",
    "* How do environmental factors like weather and geography influence the likelihood of an accident for certain aircraft types?\n",
    "* What impact does the purpose of the flight (e.g., commercial, cargo, private) have on the overall risk profile of different aircraft models?"
   ]
  },
  {
   "cell_type": "markdown",
   "metadata": {},
   "source": [
    "# Data Understanding and Analysis"
   ]
  },
  {
   "cell_type": "markdown",
   "metadata": {},
   "source": [
    "# Importing necessary Python Libraries"
   ]
  },
  {
   "cell_type": "code",
   "execution_count": 1,
   "metadata": {},
   "outputs": [
    {
     "ename": "RuntimeError",
     "evalue": "module compiled against API version 0xe but this version of numpy is 0xd",
     "output_type": "error",
     "traceback": [
      "\u001b[1;31m---------------------------------------------------------------------------\u001b[0m",
      "\u001b[1;31mRuntimeError\u001b[0m                              Traceback (most recent call last)",
      "\u001b[1;31mRuntimeError\u001b[0m: module compiled against API version 0xe but this version of numpy is 0xd"
     ]
    }
   ],
   "source": [
    "# Numpy for numerical operations, especially for working with arrays\n",
    "import numpy as np\n",
    "\n",
    "# Pandas  for data manipulation and analysis, especially for working with DataFrames\n",
    "import pandas as pd\n",
    "\n",
    "# Seaborn for data visualization, building on top of Matplotlib to provide enhanced graphing capabilities\n",
    "import seaborn as sns\n",
    "\n",
    "# Matplotlib's pyplot for creating static, animated, and interactive visualizations in Python\n",
    "import matplotlib.pyplot as plt\n",
    "\n",
    "# %matplotlib inline to display plots inline in Jupyter notebooks.\n",
    "%matplotlib inline\n"
   ]
  },
  {
   "cell_type": "markdown",
   "metadata": {},
   "source": [
    "# Loading the data"
   ]
  },
  {
   "cell_type": "code",
   "execution_count": 2,
   "metadata": {},
   "outputs": [
    {
     "name": "stderr",
     "output_type": "stream",
     "text": [
      "<ipython-input-2-b29267527608>:2: DtypeWarning: Columns (6,7,28) have mixed types. Specify dtype option on import or set low_memory=False.\n",
      "  data = pd.read_csv('AviationData.csv',  encoding='ISO-8859-1')\n"
     ]
    }
   ],
   "source": [
    "# Loading the data.\n",
    "data = pd.read_csv('AviationData.csv',  encoding='ISO-8859-1')"
   ]
  },
  {
   "cell_type": "markdown",
   "metadata": {},
   "source": [
    "# Dataset Overview and Validation"
   ]
  },
  {
   "cell_type": "code",
   "execution_count": 3,
   "metadata": {},
   "outputs": [
    {
     "data": {
      "text/html": [
       "<div>\n",
       "<style scoped>\n",
       "    .dataframe tbody tr th:only-of-type {\n",
       "        vertical-align: middle;\n",
       "    }\n",
       "\n",
       "    .dataframe tbody tr th {\n",
       "        vertical-align: top;\n",
       "    }\n",
       "\n",
       "    .dataframe thead th {\n",
       "        text-align: right;\n",
       "    }\n",
       "</style>\n",
       "<table border=\"1\" class=\"dataframe\">\n",
       "  <thead>\n",
       "    <tr style=\"text-align: right;\">\n",
       "      <th></th>\n",
       "      <th>Event.Id</th>\n",
       "      <th>Investigation.Type</th>\n",
       "      <th>Accident.Number</th>\n",
       "      <th>Event.Date</th>\n",
       "      <th>Location</th>\n",
       "      <th>Country</th>\n",
       "      <th>Latitude</th>\n",
       "      <th>Longitude</th>\n",
       "      <th>Airport.Code</th>\n",
       "      <th>Airport.Name</th>\n",
       "      <th>...</th>\n",
       "      <th>Purpose.of.flight</th>\n",
       "      <th>Air.carrier</th>\n",
       "      <th>Total.Fatal.Injuries</th>\n",
       "      <th>Total.Serious.Injuries</th>\n",
       "      <th>Total.Minor.Injuries</th>\n",
       "      <th>Total.Uninjured</th>\n",
       "      <th>Weather.Condition</th>\n",
       "      <th>Broad.phase.of.flight</th>\n",
       "      <th>Report.Status</th>\n",
       "      <th>Publication.Date</th>\n",
       "    </tr>\n",
       "  </thead>\n",
       "  <tbody>\n",
       "    <tr>\n",
       "      <th>0</th>\n",
       "      <td>20001218X45444</td>\n",
       "      <td>Accident</td>\n",
       "      <td>SEA87LA080</td>\n",
       "      <td>1948-10-24</td>\n",
       "      <td>MOOSE CREEK, ID</td>\n",
       "      <td>United States</td>\n",
       "      <td>NaN</td>\n",
       "      <td>NaN</td>\n",
       "      <td>NaN</td>\n",
       "      <td>NaN</td>\n",
       "      <td>...</td>\n",
       "      <td>Personal</td>\n",
       "      <td>NaN</td>\n",
       "      <td>2.0</td>\n",
       "      <td>0.0</td>\n",
       "      <td>0.0</td>\n",
       "      <td>0.0</td>\n",
       "      <td>UNK</td>\n",
       "      <td>Cruise</td>\n",
       "      <td>Probable Cause</td>\n",
       "      <td>NaN</td>\n",
       "    </tr>\n",
       "    <tr>\n",
       "      <th>1</th>\n",
       "      <td>20001218X45447</td>\n",
       "      <td>Accident</td>\n",
       "      <td>LAX94LA336</td>\n",
       "      <td>1962-07-19</td>\n",
       "      <td>BRIDGEPORT, CA</td>\n",
       "      <td>United States</td>\n",
       "      <td>NaN</td>\n",
       "      <td>NaN</td>\n",
       "      <td>NaN</td>\n",
       "      <td>NaN</td>\n",
       "      <td>...</td>\n",
       "      <td>Personal</td>\n",
       "      <td>NaN</td>\n",
       "      <td>4.0</td>\n",
       "      <td>0.0</td>\n",
       "      <td>0.0</td>\n",
       "      <td>0.0</td>\n",
       "      <td>UNK</td>\n",
       "      <td>Unknown</td>\n",
       "      <td>Probable Cause</td>\n",
       "      <td>19-09-1996</td>\n",
       "    </tr>\n",
       "    <tr>\n",
       "      <th>2</th>\n",
       "      <td>20061025X01555</td>\n",
       "      <td>Accident</td>\n",
       "      <td>NYC07LA005</td>\n",
       "      <td>1974-08-30</td>\n",
       "      <td>Saltville, VA</td>\n",
       "      <td>United States</td>\n",
       "      <td>36.922223</td>\n",
       "      <td>-81.878056</td>\n",
       "      <td>NaN</td>\n",
       "      <td>NaN</td>\n",
       "      <td>...</td>\n",
       "      <td>Personal</td>\n",
       "      <td>NaN</td>\n",
       "      <td>3.0</td>\n",
       "      <td>NaN</td>\n",
       "      <td>NaN</td>\n",
       "      <td>NaN</td>\n",
       "      <td>IMC</td>\n",
       "      <td>Cruise</td>\n",
       "      <td>Probable Cause</td>\n",
       "      <td>26-02-2007</td>\n",
       "    </tr>\n",
       "    <tr>\n",
       "      <th>3</th>\n",
       "      <td>20001218X45448</td>\n",
       "      <td>Accident</td>\n",
       "      <td>LAX96LA321</td>\n",
       "      <td>1977-06-19</td>\n",
       "      <td>EUREKA, CA</td>\n",
       "      <td>United States</td>\n",
       "      <td>NaN</td>\n",
       "      <td>NaN</td>\n",
       "      <td>NaN</td>\n",
       "      <td>NaN</td>\n",
       "      <td>...</td>\n",
       "      <td>Personal</td>\n",
       "      <td>NaN</td>\n",
       "      <td>2.0</td>\n",
       "      <td>0.0</td>\n",
       "      <td>0.0</td>\n",
       "      <td>0.0</td>\n",
       "      <td>IMC</td>\n",
       "      <td>Cruise</td>\n",
       "      <td>Probable Cause</td>\n",
       "      <td>12-09-2000</td>\n",
       "    </tr>\n",
       "    <tr>\n",
       "      <th>4</th>\n",
       "      <td>20041105X01764</td>\n",
       "      <td>Accident</td>\n",
       "      <td>CHI79FA064</td>\n",
       "      <td>1979-08-02</td>\n",
       "      <td>Canton, OH</td>\n",
       "      <td>United States</td>\n",
       "      <td>NaN</td>\n",
       "      <td>NaN</td>\n",
       "      <td>NaN</td>\n",
       "      <td>NaN</td>\n",
       "      <td>...</td>\n",
       "      <td>Personal</td>\n",
       "      <td>NaN</td>\n",
       "      <td>1.0</td>\n",
       "      <td>2.0</td>\n",
       "      <td>NaN</td>\n",
       "      <td>0.0</td>\n",
       "      <td>VMC</td>\n",
       "      <td>Approach</td>\n",
       "      <td>Probable Cause</td>\n",
       "      <td>16-04-1980</td>\n",
       "    </tr>\n",
       "  </tbody>\n",
       "</table>\n",
       "<p>5 rows × 31 columns</p>\n",
       "</div>"
      ],
      "text/plain": [
       "         Event.Id Investigation.Type Accident.Number  Event.Date  \\\n",
       "0  20001218X45444           Accident      SEA87LA080  1948-10-24   \n",
       "1  20001218X45447           Accident      LAX94LA336  1962-07-19   \n",
       "2  20061025X01555           Accident      NYC07LA005  1974-08-30   \n",
       "3  20001218X45448           Accident      LAX96LA321  1977-06-19   \n",
       "4  20041105X01764           Accident      CHI79FA064  1979-08-02   \n",
       "\n",
       "          Location        Country   Latitude  Longitude Airport.Code  \\\n",
       "0  MOOSE CREEK, ID  United States        NaN        NaN          NaN   \n",
       "1   BRIDGEPORT, CA  United States        NaN        NaN          NaN   \n",
       "2    Saltville, VA  United States  36.922223 -81.878056          NaN   \n",
       "3       EUREKA, CA  United States        NaN        NaN          NaN   \n",
       "4       Canton, OH  United States        NaN        NaN          NaN   \n",
       "\n",
       "  Airport.Name  ... Purpose.of.flight Air.carrier Total.Fatal.Injuries  \\\n",
       "0          NaN  ...          Personal         NaN                  2.0   \n",
       "1          NaN  ...          Personal         NaN                  4.0   \n",
       "2          NaN  ...          Personal         NaN                  3.0   \n",
       "3          NaN  ...          Personal         NaN                  2.0   \n",
       "4          NaN  ...          Personal         NaN                  1.0   \n",
       "\n",
       "  Total.Serious.Injuries Total.Minor.Injuries Total.Uninjured  \\\n",
       "0                    0.0                  0.0             0.0   \n",
       "1                    0.0                  0.0             0.0   \n",
       "2                    NaN                  NaN             NaN   \n",
       "3                    0.0                  0.0             0.0   \n",
       "4                    2.0                  NaN             0.0   \n",
       "\n",
       "  Weather.Condition  Broad.phase.of.flight   Report.Status Publication.Date  \n",
       "0               UNK                 Cruise  Probable Cause              NaN  \n",
       "1               UNK                Unknown  Probable Cause       19-09-1996  \n",
       "2               IMC                 Cruise  Probable Cause       26-02-2007  \n",
       "3               IMC                 Cruise  Probable Cause       12-09-2000  \n",
       "4               VMC               Approach  Probable Cause       16-04-1980  \n",
       "\n",
       "[5 rows x 31 columns]"
      ]
     },
     "execution_count": 3,
     "metadata": {},
     "output_type": "execute_result"
    }
   ],
   "source": [
    "# Display the first few rows of the dataset to get an overview of its structure\n",
    "data.head()"
   ]
  },
  {
   "cell_type": "code",
   "execution_count": 4,
   "metadata": {},
   "outputs": [
    {
     "data": {
      "text/html": [
       "<div>\n",
       "<style scoped>\n",
       "    .dataframe tbody tr th:only-of-type {\n",
       "        vertical-align: middle;\n",
       "    }\n",
       "\n",
       "    .dataframe tbody tr th {\n",
       "        vertical-align: top;\n",
       "    }\n",
       "\n",
       "    .dataframe thead th {\n",
       "        text-align: right;\n",
       "    }\n",
       "</style>\n",
       "<table border=\"1\" class=\"dataframe\">\n",
       "  <thead>\n",
       "    <tr style=\"text-align: right;\">\n",
       "      <th></th>\n",
       "      <th>Event.Id</th>\n",
       "      <th>Investigation.Type</th>\n",
       "      <th>Accident.Number</th>\n",
       "      <th>Event.Date</th>\n",
       "      <th>Location</th>\n",
       "      <th>Country</th>\n",
       "      <th>Latitude</th>\n",
       "      <th>Longitude</th>\n",
       "      <th>Airport.Code</th>\n",
       "      <th>Airport.Name</th>\n",
       "      <th>...</th>\n",
       "      <th>Purpose.of.flight</th>\n",
       "      <th>Air.carrier</th>\n",
       "      <th>Total.Fatal.Injuries</th>\n",
       "      <th>Total.Serious.Injuries</th>\n",
       "      <th>Total.Minor.Injuries</th>\n",
       "      <th>Total.Uninjured</th>\n",
       "      <th>Weather.Condition</th>\n",
       "      <th>Broad.phase.of.flight</th>\n",
       "      <th>Report.Status</th>\n",
       "      <th>Publication.Date</th>\n",
       "    </tr>\n",
       "  </thead>\n",
       "  <tbody>\n",
       "    <tr>\n",
       "      <th>88884</th>\n",
       "      <td>20221227106491</td>\n",
       "      <td>Accident</td>\n",
       "      <td>ERA23LA093</td>\n",
       "      <td>2022-12-26</td>\n",
       "      <td>Annapolis, MD</td>\n",
       "      <td>United States</td>\n",
       "      <td>NaN</td>\n",
       "      <td>NaN</td>\n",
       "      <td>NaN</td>\n",
       "      <td>NaN</td>\n",
       "      <td>...</td>\n",
       "      <td>Personal</td>\n",
       "      <td>NaN</td>\n",
       "      <td>0.0</td>\n",
       "      <td>1.0</td>\n",
       "      <td>0.0</td>\n",
       "      <td>0.0</td>\n",
       "      <td>NaN</td>\n",
       "      <td>NaN</td>\n",
       "      <td>NaN</td>\n",
       "      <td>29-12-2022</td>\n",
       "    </tr>\n",
       "    <tr>\n",
       "      <th>88885</th>\n",
       "      <td>20221227106494</td>\n",
       "      <td>Accident</td>\n",
       "      <td>ERA23LA095</td>\n",
       "      <td>2022-12-26</td>\n",
       "      <td>Hampton, NH</td>\n",
       "      <td>United States</td>\n",
       "      <td>NaN</td>\n",
       "      <td>NaN</td>\n",
       "      <td>NaN</td>\n",
       "      <td>NaN</td>\n",
       "      <td>...</td>\n",
       "      <td>NaN</td>\n",
       "      <td>NaN</td>\n",
       "      <td>0.0</td>\n",
       "      <td>0.0</td>\n",
       "      <td>0.0</td>\n",
       "      <td>0.0</td>\n",
       "      <td>NaN</td>\n",
       "      <td>NaN</td>\n",
       "      <td>NaN</td>\n",
       "      <td>NaN</td>\n",
       "    </tr>\n",
       "    <tr>\n",
       "      <th>88886</th>\n",
       "      <td>20221227106497</td>\n",
       "      <td>Accident</td>\n",
       "      <td>WPR23LA075</td>\n",
       "      <td>2022-12-26</td>\n",
       "      <td>Payson, AZ</td>\n",
       "      <td>United States</td>\n",
       "      <td>341525N</td>\n",
       "      <td>1112021W</td>\n",
       "      <td>PAN</td>\n",
       "      <td>PAYSON</td>\n",
       "      <td>...</td>\n",
       "      <td>Personal</td>\n",
       "      <td>NaN</td>\n",
       "      <td>0.0</td>\n",
       "      <td>0.0</td>\n",
       "      <td>0.0</td>\n",
       "      <td>1.0</td>\n",
       "      <td>VMC</td>\n",
       "      <td>NaN</td>\n",
       "      <td>NaN</td>\n",
       "      <td>27-12-2022</td>\n",
       "    </tr>\n",
       "    <tr>\n",
       "      <th>88887</th>\n",
       "      <td>20221227106498</td>\n",
       "      <td>Accident</td>\n",
       "      <td>WPR23LA076</td>\n",
       "      <td>2022-12-26</td>\n",
       "      <td>Morgan, UT</td>\n",
       "      <td>United States</td>\n",
       "      <td>NaN</td>\n",
       "      <td>NaN</td>\n",
       "      <td>NaN</td>\n",
       "      <td>NaN</td>\n",
       "      <td>...</td>\n",
       "      <td>Personal</td>\n",
       "      <td>MC CESSNA 210N LLC</td>\n",
       "      <td>0.0</td>\n",
       "      <td>0.0</td>\n",
       "      <td>0.0</td>\n",
       "      <td>0.0</td>\n",
       "      <td>NaN</td>\n",
       "      <td>NaN</td>\n",
       "      <td>NaN</td>\n",
       "      <td>NaN</td>\n",
       "    </tr>\n",
       "    <tr>\n",
       "      <th>88888</th>\n",
       "      <td>20221230106513</td>\n",
       "      <td>Accident</td>\n",
       "      <td>ERA23LA097</td>\n",
       "      <td>2022-12-29</td>\n",
       "      <td>Athens, GA</td>\n",
       "      <td>United States</td>\n",
       "      <td>NaN</td>\n",
       "      <td>NaN</td>\n",
       "      <td>NaN</td>\n",
       "      <td>NaN</td>\n",
       "      <td>...</td>\n",
       "      <td>Personal</td>\n",
       "      <td>NaN</td>\n",
       "      <td>0.0</td>\n",
       "      <td>1.0</td>\n",
       "      <td>0.0</td>\n",
       "      <td>1.0</td>\n",
       "      <td>NaN</td>\n",
       "      <td>NaN</td>\n",
       "      <td>NaN</td>\n",
       "      <td>30-12-2022</td>\n",
       "    </tr>\n",
       "  </tbody>\n",
       "</table>\n",
       "<p>5 rows × 31 columns</p>\n",
       "</div>"
      ],
      "text/plain": [
       "             Event.Id Investigation.Type Accident.Number  Event.Date  \\\n",
       "88884  20221227106491           Accident      ERA23LA093  2022-12-26   \n",
       "88885  20221227106494           Accident      ERA23LA095  2022-12-26   \n",
       "88886  20221227106497           Accident      WPR23LA075  2022-12-26   \n",
       "88887  20221227106498           Accident      WPR23LA076  2022-12-26   \n",
       "88888  20221230106513           Accident      ERA23LA097  2022-12-29   \n",
       "\n",
       "            Location        Country Latitude Longitude Airport.Code  \\\n",
       "88884  Annapolis, MD  United States      NaN       NaN          NaN   \n",
       "88885    Hampton, NH  United States      NaN       NaN          NaN   \n",
       "88886     Payson, AZ  United States  341525N  1112021W          PAN   \n",
       "88887     Morgan, UT  United States      NaN       NaN          NaN   \n",
       "88888     Athens, GA  United States      NaN       NaN          NaN   \n",
       "\n",
       "      Airport.Name  ... Purpose.of.flight         Air.carrier  \\\n",
       "88884          NaN  ...          Personal                 NaN   \n",
       "88885          NaN  ...               NaN                 NaN   \n",
       "88886       PAYSON  ...          Personal                 NaN   \n",
       "88887          NaN  ...          Personal  MC CESSNA 210N LLC   \n",
       "88888          NaN  ...          Personal                 NaN   \n",
       "\n",
       "      Total.Fatal.Injuries Total.Serious.Injuries Total.Minor.Injuries  \\\n",
       "88884                  0.0                    1.0                  0.0   \n",
       "88885                  0.0                    0.0                  0.0   \n",
       "88886                  0.0                    0.0                  0.0   \n",
       "88887                  0.0                    0.0                  0.0   \n",
       "88888                  0.0                    1.0                  0.0   \n",
       "\n",
       "      Total.Uninjured Weather.Condition  Broad.phase.of.flight Report.Status  \\\n",
       "88884             0.0               NaN                    NaN           NaN   \n",
       "88885             0.0               NaN                    NaN           NaN   \n",
       "88886             1.0               VMC                    NaN           NaN   \n",
       "88887             0.0               NaN                    NaN           NaN   \n",
       "88888             1.0               NaN                    NaN           NaN   \n",
       "\n",
       "      Publication.Date  \n",
       "88884       29-12-2022  \n",
       "88885              NaN  \n",
       "88886       27-12-2022  \n",
       "88887              NaN  \n",
       "88888       30-12-2022  \n",
       "\n",
       "[5 rows x 31 columns]"
      ]
     },
     "execution_count": 4,
     "metadata": {},
     "output_type": "execute_result"
    }
   ],
   "source": [
    "# Display the last few rows of the dataset to check the final entries\n",
    "data.tail()"
   ]
  },
  {
   "cell_type": "code",
   "execution_count": 5,
   "metadata": {},
   "outputs": [
    {
     "data": {
      "text/plain": [
       "Index(['Event.Id', 'Investigation.Type', 'Accident.Number', 'Event.Date',\n",
       "       'Location', 'Country', 'Latitude', 'Longitude', 'Airport.Code',\n",
       "       'Airport.Name', 'Injury.Severity', 'Aircraft.damage',\n",
       "       'Aircraft.Category', 'Registration.Number', 'Make', 'Model',\n",
       "       'Amateur.Built', 'Number.of.Engines', 'Engine.Type', 'FAR.Description',\n",
       "       'Schedule', 'Purpose.of.flight', 'Air.carrier', 'Total.Fatal.Injuries',\n",
       "       'Total.Serious.Injuries', 'Total.Minor.Injuries', 'Total.Uninjured',\n",
       "       'Weather.Condition', 'Broad.phase.of.flight', 'Report.Status',\n",
       "       'Publication.Date'],\n",
       "      dtype='object')"
      ]
     },
     "execution_count": 5,
     "metadata": {},
     "output_type": "execute_result"
    }
   ],
   "source": [
    "# Display the list of column names in the dataset\n",
    "data.columns"
   ]
  },
  {
   "cell_type": "code",
   "execution_count": 6,
   "metadata": {},
   "outputs": [
    {
     "data": {
      "text/plain": [
       "31"
      ]
     },
     "execution_count": 6,
     "metadata": {},
     "output_type": "execute_result"
    }
   ],
   "source": [
    "# Count the total number of columns in the dataset, ensuring no duplicates\n",
    "data.columns.value_counts().sum()"
   ]
  },
  {
   "cell_type": "code",
   "execution_count": 7,
   "metadata": {},
   "outputs": [
    {
     "data": {
      "text/plain": [
       "Event.Id                      0\n",
       "Investigation.Type            0\n",
       "Accident.Number               0\n",
       "Event.Date                    0\n",
       "Location                     52\n",
       "Country                     226\n",
       "Latitude                  54507\n",
       "Longitude                 54516\n",
       "Airport.Code              38640\n",
       "Airport.Name              36099\n",
       "Injury.Severity            1000\n",
       "Aircraft.damage            3194\n",
       "Aircraft.Category         56602\n",
       "Registration.Number        1317\n",
       "Make                         63\n",
       "Model                        92\n",
       "Amateur.Built               102\n",
       "Number.of.Engines          6084\n",
       "Engine.Type                7077\n",
       "FAR.Description           56866\n",
       "Schedule                  76307\n",
       "Purpose.of.flight          6192\n",
       "Air.carrier               72241\n",
       "Total.Fatal.Injuries      11401\n",
       "Total.Serious.Injuries    12510\n",
       "Total.Minor.Injuries      11933\n",
       "Total.Uninjured            5912\n",
       "Weather.Condition          4492\n",
       "Broad.phase.of.flight     27165\n",
       "Report.Status              6381\n",
       "Publication.Date          13771\n",
       "dtype: int64"
      ]
     },
     "execution_count": 7,
     "metadata": {},
     "output_type": "execute_result"
    }
   ],
   "source": [
    "# Checking for any missing values in the dataset\n",
    "data.isnull().sum()"
   ]
  },
  {
   "cell_type": "code",
   "execution_count": 8,
   "metadata": {},
   "outputs": [
    {
     "data": {
      "text/html": [
       "<div>\n",
       "<style scoped>\n",
       "    .dataframe tbody tr th:only-of-type {\n",
       "        vertical-align: middle;\n",
       "    }\n",
       "\n",
       "    .dataframe tbody tr th {\n",
       "        vertical-align: top;\n",
       "    }\n",
       "\n",
       "    .dataframe thead th {\n",
       "        text-align: right;\n",
       "    }\n",
       "</style>\n",
       "<table border=\"1\" class=\"dataframe\">\n",
       "  <thead>\n",
       "    <tr style=\"text-align: right;\">\n",
       "      <th></th>\n",
       "      <th>Number.of.Engines</th>\n",
       "      <th>Total.Fatal.Injuries</th>\n",
       "      <th>Total.Serious.Injuries</th>\n",
       "      <th>Total.Minor.Injuries</th>\n",
       "      <th>Total.Uninjured</th>\n",
       "    </tr>\n",
       "  </thead>\n",
       "  <tbody>\n",
       "    <tr>\n",
       "      <th>count</th>\n",
       "      <td>82805.000000</td>\n",
       "      <td>77488.000000</td>\n",
       "      <td>76379.000000</td>\n",
       "      <td>76956.000000</td>\n",
       "      <td>82977.000000</td>\n",
       "    </tr>\n",
       "    <tr>\n",
       "      <th>mean</th>\n",
       "      <td>1.146585</td>\n",
       "      <td>0.647855</td>\n",
       "      <td>0.279881</td>\n",
       "      <td>0.357061</td>\n",
       "      <td>5.325440</td>\n",
       "    </tr>\n",
       "    <tr>\n",
       "      <th>std</th>\n",
       "      <td>0.446510</td>\n",
       "      <td>5.485960</td>\n",
       "      <td>1.544084</td>\n",
       "      <td>2.235625</td>\n",
       "      <td>27.913634</td>\n",
       "    </tr>\n",
       "    <tr>\n",
       "      <th>min</th>\n",
       "      <td>0.000000</td>\n",
       "      <td>0.000000</td>\n",
       "      <td>0.000000</td>\n",
       "      <td>0.000000</td>\n",
       "      <td>0.000000</td>\n",
       "    </tr>\n",
       "    <tr>\n",
       "      <th>25%</th>\n",
       "      <td>1.000000</td>\n",
       "      <td>0.000000</td>\n",
       "      <td>0.000000</td>\n",
       "      <td>0.000000</td>\n",
       "      <td>0.000000</td>\n",
       "    </tr>\n",
       "    <tr>\n",
       "      <th>50%</th>\n",
       "      <td>1.000000</td>\n",
       "      <td>0.000000</td>\n",
       "      <td>0.000000</td>\n",
       "      <td>0.000000</td>\n",
       "      <td>1.000000</td>\n",
       "    </tr>\n",
       "    <tr>\n",
       "      <th>75%</th>\n",
       "      <td>1.000000</td>\n",
       "      <td>0.000000</td>\n",
       "      <td>0.000000</td>\n",
       "      <td>0.000000</td>\n",
       "      <td>2.000000</td>\n",
       "    </tr>\n",
       "    <tr>\n",
       "      <th>max</th>\n",
       "      <td>8.000000</td>\n",
       "      <td>349.000000</td>\n",
       "      <td>161.000000</td>\n",
       "      <td>380.000000</td>\n",
       "      <td>699.000000</td>\n",
       "    </tr>\n",
       "  </tbody>\n",
       "</table>\n",
       "</div>"
      ],
      "text/plain": [
       "       Number.of.Engines  Total.Fatal.Injuries  Total.Serious.Injuries  \\\n",
       "count       82805.000000          77488.000000            76379.000000   \n",
       "mean            1.146585              0.647855                0.279881   \n",
       "std             0.446510              5.485960                1.544084   \n",
       "min             0.000000              0.000000                0.000000   \n",
       "25%             1.000000              0.000000                0.000000   \n",
       "50%             1.000000              0.000000                0.000000   \n",
       "75%             1.000000              0.000000                0.000000   \n",
       "max             8.000000            349.000000              161.000000   \n",
       "\n",
       "       Total.Minor.Injuries  Total.Uninjured  \n",
       "count          76956.000000     82977.000000  \n",
       "mean               0.357061         5.325440  \n",
       "std                2.235625        27.913634  \n",
       "min                0.000000         0.000000  \n",
       "25%                0.000000         0.000000  \n",
       "50%                0.000000         1.000000  \n",
       "75%                0.000000         2.000000  \n",
       "max              380.000000       699.000000  "
      ]
     },
     "execution_count": 8,
     "metadata": {},
     "output_type": "execute_result"
    }
   ],
   "source": [
    "# Get summary statistics for numerical columns\n",
    "data.describe()"
   ]
  },
  {
   "cell_type": "code",
   "execution_count": 9,
   "metadata": {},
   "outputs": [
    {
     "data": {
      "text/html": [
       "<div>\n",
       "<style scoped>\n",
       "    .dataframe tbody tr th:only-of-type {\n",
       "        vertical-align: middle;\n",
       "    }\n",
       "\n",
       "    .dataframe tbody tr th {\n",
       "        vertical-align: top;\n",
       "    }\n",
       "\n",
       "    .dataframe thead th {\n",
       "        text-align: right;\n",
       "    }\n",
       "</style>\n",
       "<table border=\"1\" class=\"dataframe\">\n",
       "  <thead>\n",
       "    <tr style=\"text-align: right;\">\n",
       "      <th></th>\n",
       "      <th>count</th>\n",
       "      <th>mean</th>\n",
       "      <th>std</th>\n",
       "      <th>min</th>\n",
       "      <th>25%</th>\n",
       "      <th>50%</th>\n",
       "      <th>75%</th>\n",
       "      <th>max</th>\n",
       "    </tr>\n",
       "  </thead>\n",
       "  <tbody>\n",
       "    <tr>\n",
       "      <th>Number.of.Engines</th>\n",
       "      <td>82805.0</td>\n",
       "      <td>1.146585</td>\n",
       "      <td>0.446510</td>\n",
       "      <td>0.0</td>\n",
       "      <td>1.0</td>\n",
       "      <td>1.0</td>\n",
       "      <td>1.0</td>\n",
       "      <td>8.0</td>\n",
       "    </tr>\n",
       "    <tr>\n",
       "      <th>Total.Fatal.Injuries</th>\n",
       "      <td>77488.0</td>\n",
       "      <td>0.647855</td>\n",
       "      <td>5.485960</td>\n",
       "      <td>0.0</td>\n",
       "      <td>0.0</td>\n",
       "      <td>0.0</td>\n",
       "      <td>0.0</td>\n",
       "      <td>349.0</td>\n",
       "    </tr>\n",
       "    <tr>\n",
       "      <th>Total.Serious.Injuries</th>\n",
       "      <td>76379.0</td>\n",
       "      <td>0.279881</td>\n",
       "      <td>1.544084</td>\n",
       "      <td>0.0</td>\n",
       "      <td>0.0</td>\n",
       "      <td>0.0</td>\n",
       "      <td>0.0</td>\n",
       "      <td>161.0</td>\n",
       "    </tr>\n",
       "    <tr>\n",
       "      <th>Total.Minor.Injuries</th>\n",
       "      <td>76956.0</td>\n",
       "      <td>0.357061</td>\n",
       "      <td>2.235625</td>\n",
       "      <td>0.0</td>\n",
       "      <td>0.0</td>\n",
       "      <td>0.0</td>\n",
       "      <td>0.0</td>\n",
       "      <td>380.0</td>\n",
       "    </tr>\n",
       "    <tr>\n",
       "      <th>Total.Uninjured</th>\n",
       "      <td>82977.0</td>\n",
       "      <td>5.325440</td>\n",
       "      <td>27.913634</td>\n",
       "      <td>0.0</td>\n",
       "      <td>0.0</td>\n",
       "      <td>1.0</td>\n",
       "      <td>2.0</td>\n",
       "      <td>699.0</td>\n",
       "    </tr>\n",
       "  </tbody>\n",
       "</table>\n",
       "</div>"
      ],
      "text/plain": [
       "                          count      mean        std  min  25%  50%  75%  \\\n",
       "Number.of.Engines       82805.0  1.146585   0.446510  0.0  1.0  1.0  1.0   \n",
       "Total.Fatal.Injuries    77488.0  0.647855   5.485960  0.0  0.0  0.0  0.0   \n",
       "Total.Serious.Injuries  76379.0  0.279881   1.544084  0.0  0.0  0.0  0.0   \n",
       "Total.Minor.Injuries    76956.0  0.357061   2.235625  0.0  0.0  0.0  0.0   \n",
       "Total.Uninjured         82977.0  5.325440  27.913634  0.0  0.0  1.0  2.0   \n",
       "\n",
       "                          max  \n",
       "Number.of.Engines         8.0  \n",
       "Total.Fatal.Injuries    349.0  \n",
       "Total.Serious.Injuries  161.0  \n",
       "Total.Minor.Injuries    380.0  \n",
       "Total.Uninjured         699.0  "
      ]
     },
     "execution_count": 9,
     "metadata": {},
     "output_type": "execute_result"
    }
   ],
   "source": [
    "# Get summary statistics for numerical columns, transposed for easier reading\n",
    "data.describe().T"
   ]
  },
  {
   "cell_type": "code",
   "execution_count": 10,
   "metadata": {},
   "outputs": [
    {
     "data": {
      "text/plain": [
       "Event.Id                   object\n",
       "Investigation.Type         object\n",
       "Accident.Number            object\n",
       "Event.Date                 object\n",
       "Location                   object\n",
       "Country                    object\n",
       "Latitude                   object\n",
       "Longitude                  object\n",
       "Airport.Code               object\n",
       "Airport.Name               object\n",
       "Injury.Severity            object\n",
       "Aircraft.damage            object\n",
       "Aircraft.Category          object\n",
       "Registration.Number        object\n",
       "Make                       object\n",
       "Model                      object\n",
       "Amateur.Built              object\n",
       "Number.of.Engines         float64\n",
       "Engine.Type                object\n",
       "FAR.Description            object\n",
       "Schedule                   object\n",
       "Purpose.of.flight          object\n",
       "Air.carrier                object\n",
       "Total.Fatal.Injuries      float64\n",
       "Total.Serious.Injuries    float64\n",
       "Total.Minor.Injuries      float64\n",
       "Total.Uninjured           float64\n",
       "Weather.Condition          object\n",
       "Broad.phase.of.flight      object\n",
       "Report.Status              object\n",
       "Publication.Date           object\n",
       "dtype: object"
      ]
     },
     "execution_count": 10,
     "metadata": {},
     "output_type": "execute_result"
    }
   ],
   "source": [
    "# Check the data types of each column\n",
    "data.dtypes\n"
   ]
  },
  {
   "cell_type": "code",
   "execution_count": 11,
   "metadata": {},
   "outputs": [
    {
     "data": {
      "text/plain": [
       "Event.Id                  87951\n",
       "Investigation.Type            2\n",
       "Accident.Number           88863\n",
       "Event.Date                14782\n",
       "Location                  27758\n",
       "Country                     219\n",
       "Latitude                  25592\n",
       "Longitude                 27156\n",
       "Airport.Code              10375\n",
       "Airport.Name              24871\n",
       "Injury.Severity             109\n",
       "Aircraft.damage               4\n",
       "Aircraft.Category            15\n",
       "Registration.Number       79105\n",
       "Make                       8237\n",
       "Model                     12318\n",
       "Amateur.Built                 2\n",
       "Number.of.Engines             7\n",
       "Engine.Type                  13\n",
       "FAR.Description              31\n",
       "Schedule                      3\n",
       "Purpose.of.flight            26\n",
       "Air.carrier               13590\n",
       "Total.Fatal.Injuries        125\n",
       "Total.Serious.Injuries       50\n",
       "Total.Minor.Injuries         57\n",
       "Total.Uninjured             379\n",
       "Weather.Condition             4\n",
       "Broad.phase.of.flight        12\n",
       "Report.Status             17075\n",
       "Publication.Date           2924\n",
       "dtype: int64"
      ]
     },
     "execution_count": 11,
     "metadata": {},
     "output_type": "execute_result"
    }
   ],
   "source": [
    "# Display the number of unique values for each column\n",
    "data.nunique()\n"
   ]
  },
  {
   "cell_type": "code",
   "execution_count": 12,
   "metadata": {},
   "outputs": [
    {
     "data": {
      "text/plain": [
       "0"
      ]
     },
     "execution_count": 12,
     "metadata": {},
     "output_type": "execute_result"
    }
   ],
   "source": [
    "# Check for any duplicate rows in the dataset\n",
    "data.duplicated().sum()\n"
   ]
  },
  {
   "cell_type": "markdown",
   "metadata": {},
   "source": [
    "# DATA CLEANING"
   ]
  },
  {
   "cell_type": "code",
   "execution_count": 13,
   "metadata": {},
   "outputs": [
    {
     "data": {
      "text/plain": [
       "31"
      ]
     },
     "execution_count": 13,
     "metadata": {},
     "output_type": "execute_result"
    }
   ],
   "source": [
    "# Calculate the percentage of missing values for each column\n",
    "missing_data_percentage = data.isnull().mean() * 100\n",
    "missing_data_percentage.count()"
   ]
  },
  {
   "cell_type": "code",
   "execution_count": 14,
   "metadata": {},
   "outputs": [
    {
     "data": {
      "text/plain": [
       "Location                   0.058500\n",
       "Country                    0.254250\n",
       "Latitude                  61.320298\n",
       "Longitude                 61.330423\n",
       "Airport.Code              43.469946\n",
       "Airport.Name              40.611324\n",
       "Injury.Severity            1.124999\n",
       "Aircraft.damage            3.593246\n",
       "Aircraft.Category         63.677170\n",
       "Registration.Number        1.481623\n",
       "Make                       0.070875\n",
       "Model                      0.103500\n",
       "Amateur.Built              0.114750\n",
       "Number.of.Engines          6.844491\n",
       "Engine.Type                7.961615\n",
       "FAR.Description           63.974170\n",
       "Schedule                  85.845268\n",
       "Purpose.of.flight          6.965991\n",
       "Air.carrier               81.271023\n",
       "Total.Fatal.Injuries      12.826109\n",
       "Total.Serious.Injuries    14.073732\n",
       "Total.Minor.Injuries      13.424608\n",
       "Total.Uninjured            6.650992\n",
       "Weather.Condition          5.053494\n",
       "Broad.phase.of.flight     30.560587\n",
       "Report.Status              7.178616\n",
       "Publication.Date          15.492356\n",
       "dtype: float64"
      ]
     },
     "execution_count": 14,
     "metadata": {},
     "output_type": "execute_result"
    }
   ],
   "source": [
    "columns_with_missing_data = missing_data_percentage[missing_data_percentage > 0]\n",
    "columns_with_missing_data"
   ]
  },
  {
   "cell_type": "code",
   "execution_count": 15,
   "metadata": {},
   "outputs": [
    {
     "data": {
      "text/plain": [
       "Index(['Latitude', 'Longitude', 'Airport.Code', 'Airport.Name',\n",
       "       'Aircraft.Category', 'FAR.Description', 'Schedule', 'Air.carrier'],\n",
       "      dtype='object')"
      ]
     },
     "execution_count": 15,
     "metadata": {},
     "output_type": "execute_result"
    }
   ],
   "source": [
    "# Displaying columns with more than a 40% percentage of missing data\n",
    "high_missing_data = missing_data_percentage[missing_data_percentage > 40].index\n",
    "high_missing_data"
   ]
  },
  {
   "cell_type": "markdown",
   "metadata": {},
   "source": [
    "Dropping columns with too much missing data(more that 40 % and not useful in data)"
   ]
  },
  {
   "cell_type": "code",
   "execution_count": 16,
   "metadata": {},
   "outputs": [],
   "source": [
    "# Dropping the,mkz specified columns from the DataFrame\n",
    "data.drop(columns=['Latitude', 'Longitude', 'Air.carrier', 'Airport.Code', 'Publication.Date',], inplace=True)"
   ]
  },
  {
   "cell_type": "code",
   "execution_count": 17,
   "metadata": {},
   "outputs": [
    {
     "data": {
      "text/plain": [
       "Event.Id                  1\n",
       "Investigation.Type        1\n",
       "Broad.phase.of.flight     1\n",
       "Weather.Condition         1\n",
       "Total.Uninjured           1\n",
       "Total.Minor.Injuries      1\n",
       "Total.Serious.Injuries    1\n",
       "Total.Fatal.Injuries      1\n",
       "Purpose.of.flight         1\n",
       "Schedule                  1\n",
       "FAR.Description           1\n",
       "Engine.Type               1\n",
       "Number.of.Engines         1\n",
       "Amateur.Built             1\n",
       "Model                     1\n",
       "Make                      1\n",
       "Registration.Number       1\n",
       "Aircraft.Category         1\n",
       "Aircraft.damage           1\n",
       "Injury.Severity           1\n",
       "Airport.Name              1\n",
       "Country                   1\n",
       "Location                  1\n",
       "Event.Date                1\n",
       "Accident.Number           1\n",
       "Report.Status             1\n",
       "dtype: int64"
      ]
     },
     "execution_count": 17,
     "metadata": {},
     "output_type": "execute_result"
    }
   ],
   "source": [
    "# Checking the remaing columns\n",
    "data.columns.value_counts()"
   ]
  },
  {
   "cell_type": "code",
   "execution_count": 18,
   "metadata": {},
   "outputs": [
    {
     "data": {
      "text/html": [
       "<div>\n",
       "<style scoped>\n",
       "    .dataframe tbody tr th:only-of-type {\n",
       "        vertical-align: middle;\n",
       "    }\n",
       "\n",
       "    .dataframe tbody tr th {\n",
       "        vertical-align: top;\n",
       "    }\n",
       "\n",
       "    .dataframe thead th {\n",
       "        text-align: right;\n",
       "    }\n",
       "</style>\n",
       "<table border=\"1\" class=\"dataframe\">\n",
       "  <thead>\n",
       "    <tr style=\"text-align: right;\">\n",
       "      <th></th>\n",
       "      <th>Event.Id</th>\n",
       "      <th>Investigation.Type</th>\n",
       "      <th>Accident.Number</th>\n",
       "      <th>Event.Date</th>\n",
       "      <th>Location</th>\n",
       "      <th>Country</th>\n",
       "      <th>Airport.Name</th>\n",
       "      <th>Injury.Severity</th>\n",
       "      <th>Aircraft.damage</th>\n",
       "      <th>Aircraft.Category</th>\n",
       "      <th>...</th>\n",
       "      <th>FAR.Description</th>\n",
       "      <th>Schedule</th>\n",
       "      <th>Purpose.of.flight</th>\n",
       "      <th>Total.Fatal.Injuries</th>\n",
       "      <th>Total.Serious.Injuries</th>\n",
       "      <th>Total.Minor.Injuries</th>\n",
       "      <th>Total.Uninjured</th>\n",
       "      <th>Weather.Condition</th>\n",
       "      <th>Broad.phase.of.flight</th>\n",
       "      <th>Report.Status</th>\n",
       "    </tr>\n",
       "  </thead>\n",
       "  <tbody>\n",
       "    <tr>\n",
       "      <th>0</th>\n",
       "      <td>20001218X45444</td>\n",
       "      <td>Accident</td>\n",
       "      <td>SEA87LA080</td>\n",
       "      <td>1948-10-24</td>\n",
       "      <td>MOOSE CREEK, ID</td>\n",
       "      <td>United States</td>\n",
       "      <td>NaN</td>\n",
       "      <td>Fatal(2)</td>\n",
       "      <td>Destroyed</td>\n",
       "      <td>NaN</td>\n",
       "      <td>...</td>\n",
       "      <td>NaN</td>\n",
       "      <td>NaN</td>\n",
       "      <td>Personal</td>\n",
       "      <td>2.0</td>\n",
       "      <td>0.0</td>\n",
       "      <td>0.0</td>\n",
       "      <td>0.0</td>\n",
       "      <td>UNK</td>\n",
       "      <td>Cruise</td>\n",
       "      <td>Probable Cause</td>\n",
       "    </tr>\n",
       "    <tr>\n",
       "      <th>1</th>\n",
       "      <td>20001218X45447</td>\n",
       "      <td>Accident</td>\n",
       "      <td>LAX94LA336</td>\n",
       "      <td>1962-07-19</td>\n",
       "      <td>BRIDGEPORT, CA</td>\n",
       "      <td>United States</td>\n",
       "      <td>NaN</td>\n",
       "      <td>Fatal(4)</td>\n",
       "      <td>Destroyed</td>\n",
       "      <td>NaN</td>\n",
       "      <td>...</td>\n",
       "      <td>NaN</td>\n",
       "      <td>NaN</td>\n",
       "      <td>Personal</td>\n",
       "      <td>4.0</td>\n",
       "      <td>0.0</td>\n",
       "      <td>0.0</td>\n",
       "      <td>0.0</td>\n",
       "      <td>UNK</td>\n",
       "      <td>Unknown</td>\n",
       "      <td>Probable Cause</td>\n",
       "    </tr>\n",
       "    <tr>\n",
       "      <th>2</th>\n",
       "      <td>20061025X01555</td>\n",
       "      <td>Accident</td>\n",
       "      <td>NYC07LA005</td>\n",
       "      <td>1974-08-30</td>\n",
       "      <td>Saltville, VA</td>\n",
       "      <td>United States</td>\n",
       "      <td>NaN</td>\n",
       "      <td>Fatal(3)</td>\n",
       "      <td>Destroyed</td>\n",
       "      <td>NaN</td>\n",
       "      <td>...</td>\n",
       "      <td>NaN</td>\n",
       "      <td>NaN</td>\n",
       "      <td>Personal</td>\n",
       "      <td>3.0</td>\n",
       "      <td>NaN</td>\n",
       "      <td>NaN</td>\n",
       "      <td>NaN</td>\n",
       "      <td>IMC</td>\n",
       "      <td>Cruise</td>\n",
       "      <td>Probable Cause</td>\n",
       "    </tr>\n",
       "    <tr>\n",
       "      <th>3</th>\n",
       "      <td>20001218X45448</td>\n",
       "      <td>Accident</td>\n",
       "      <td>LAX96LA321</td>\n",
       "      <td>1977-06-19</td>\n",
       "      <td>EUREKA, CA</td>\n",
       "      <td>United States</td>\n",
       "      <td>NaN</td>\n",
       "      <td>Fatal(2)</td>\n",
       "      <td>Destroyed</td>\n",
       "      <td>NaN</td>\n",
       "      <td>...</td>\n",
       "      <td>NaN</td>\n",
       "      <td>NaN</td>\n",
       "      <td>Personal</td>\n",
       "      <td>2.0</td>\n",
       "      <td>0.0</td>\n",
       "      <td>0.0</td>\n",
       "      <td>0.0</td>\n",
       "      <td>IMC</td>\n",
       "      <td>Cruise</td>\n",
       "      <td>Probable Cause</td>\n",
       "    </tr>\n",
       "    <tr>\n",
       "      <th>4</th>\n",
       "      <td>20041105X01764</td>\n",
       "      <td>Accident</td>\n",
       "      <td>CHI79FA064</td>\n",
       "      <td>1979-08-02</td>\n",
       "      <td>Canton, OH</td>\n",
       "      <td>United States</td>\n",
       "      <td>NaN</td>\n",
       "      <td>Fatal(1)</td>\n",
       "      <td>Destroyed</td>\n",
       "      <td>NaN</td>\n",
       "      <td>...</td>\n",
       "      <td>NaN</td>\n",
       "      <td>NaN</td>\n",
       "      <td>Personal</td>\n",
       "      <td>1.0</td>\n",
       "      <td>2.0</td>\n",
       "      <td>NaN</td>\n",
       "      <td>0.0</td>\n",
       "      <td>VMC</td>\n",
       "      <td>Approach</td>\n",
       "      <td>Probable Cause</td>\n",
       "    </tr>\n",
       "  </tbody>\n",
       "</table>\n",
       "<p>5 rows × 26 columns</p>\n",
       "</div>"
      ],
      "text/plain": [
       "         Event.Id Investigation.Type Accident.Number  Event.Date  \\\n",
       "0  20001218X45444           Accident      SEA87LA080  1948-10-24   \n",
       "1  20001218X45447           Accident      LAX94LA336  1962-07-19   \n",
       "2  20061025X01555           Accident      NYC07LA005  1974-08-30   \n",
       "3  20001218X45448           Accident      LAX96LA321  1977-06-19   \n",
       "4  20041105X01764           Accident      CHI79FA064  1979-08-02   \n",
       "\n",
       "          Location        Country Airport.Name Injury.Severity  \\\n",
       "0  MOOSE CREEK, ID  United States          NaN        Fatal(2)   \n",
       "1   BRIDGEPORT, CA  United States          NaN        Fatal(4)   \n",
       "2    Saltville, VA  United States          NaN        Fatal(3)   \n",
       "3       EUREKA, CA  United States          NaN        Fatal(2)   \n",
       "4       Canton, OH  United States          NaN        Fatal(1)   \n",
       "\n",
       "  Aircraft.damage Aircraft.Category  ... FAR.Description Schedule  \\\n",
       "0       Destroyed               NaN  ...             NaN      NaN   \n",
       "1       Destroyed               NaN  ...             NaN      NaN   \n",
       "2       Destroyed               NaN  ...             NaN      NaN   \n",
       "3       Destroyed               NaN  ...             NaN      NaN   \n",
       "4       Destroyed               NaN  ...             NaN      NaN   \n",
       "\n",
       "  Purpose.of.flight Total.Fatal.Injuries  Total.Serious.Injuries  \\\n",
       "0          Personal                  2.0                     0.0   \n",
       "1          Personal                  4.0                     0.0   \n",
       "2          Personal                  3.0                     NaN   \n",
       "3          Personal                  2.0                     0.0   \n",
       "4          Personal                  1.0                     2.0   \n",
       "\n",
       "  Total.Minor.Injuries Total.Uninjured Weather.Condition  \\\n",
       "0                  0.0             0.0               UNK   \n",
       "1                  0.0             0.0               UNK   \n",
       "2                  NaN             NaN               IMC   \n",
       "3                  0.0             0.0               IMC   \n",
       "4                  NaN             0.0               VMC   \n",
       "\n",
       "  Broad.phase.of.flight   Report.Status  \n",
       "0                Cruise  Probable Cause  \n",
       "1               Unknown  Probable Cause  \n",
       "2                Cruise  Probable Cause  \n",
       "3                Cruise  Probable Cause  \n",
       "4              Approach  Probable Cause  \n",
       "\n",
       "[5 rows x 26 columns]"
      ]
     },
     "execution_count": 18,
     "metadata": {},
     "output_type": "execute_result"
    }
   ],
   "source": [
    "data.head()"
   ]
  },
  {
   "cell_type": "code",
   "execution_count": 19,
   "metadata": {},
   "outputs": [
    {
     "name": "stdout",
     "output_type": "stream",
     "text": [
      "0\n"
     ]
    }
   ],
   "source": [
    "# Fill null values in the 'Location' column with 'Unknown'\n",
    "data['Location'].fillna('Unknown', inplace=True)\n",
    "\n",
    "# Verifying that the null values have been replaced\n",
    "print(data['Location'].isnull().sum())"
   ]
  },
  {
   "cell_type": "code",
   "execution_count": 20,
   "metadata": {},
   "outputs": [
    {
     "name": "stdout",
     "output_type": "stream",
     "text": [
      "0\n"
     ]
    }
   ],
   "source": [
    "# Fill null values in the 'Country' column with 'Unknown'\n",
    "data['Country'].fillna('Unknown', inplace=True)\n",
    "\n",
    "# Verifying that the null values have been replaced\n",
    "print(data['Country'].isnull().sum())"
   ]
  },
  {
   "cell_type": "code",
   "execution_count": 21,
   "metadata": {},
   "outputs": [
    {
     "name": "stdout",
     "output_type": "stream",
     "text": [
      "0\n"
     ]
    }
   ],
   "source": [
    "# Fill null values in the 'Airport.Name' column with 'Unknown'\n",
    "data['Airport.Name'].fillna('Unknown', inplace=True)\n",
    "\n",
    "# Verifying that the null values have been replaced\n",
    "print(data['Airport.Name'].isnull().sum())"
   ]
  },
  {
   "cell_type": "code",
   "execution_count": 22,
   "metadata": {},
   "outputs": [
    {
     "name": "stdout",
     "output_type": "stream",
     "text": [
      "0\n"
     ]
    }
   ],
   "source": [
    "# Forward fill missing values in Aircraft.Damage column\n",
    "data['Aircraft.damage'] = data['Aircraft.damage'].ffill()\n",
    "\n",
    "# Verifying that the null values have been replaced\n",
    "print(data['Aircraft.damage'].isnull().sum())"
   ]
  },
  {
   "cell_type": "code",
   "execution_count": 23,
   "metadata": {},
   "outputs": [
    {
     "name": "stdout",
     "output_type": "stream",
     "text": [
      "0\n"
     ]
    }
   ],
   "source": [
    "# Finding the mode (most frequent value) of the 'Aircraft.Category' column\n",
    "mode_value = data['Aircraft.Category'].mode()[0]\n",
    "\n",
    "# Filling the null values in the 'Aircraft.Category' column with the mode value\n",
    "data['Aircraft.Category'].fillna(mode_value, inplace=True)\n",
    "\n",
    "# Verifying that the null values have been replaced\n",
    "print(data['Aircraft.Category'].isnull().sum())"
   ]
  },
  {
   "cell_type": "markdown",
   "metadata": {},
   "source": [
    "To make the values in the Injury.Severity column uniform (i.e., removing the numbers in brackets and ensuring the values read just \"Fatal\" or \"Nonfatal\"), I will use a regular expression to remove any text within parentheses."
   ]
  },
  {
   "cell_type": "code",
   "execution_count": 24,
   "metadata": {},
   "outputs": [
    {
     "name": "stdout",
     "output_type": "stream",
     "text": [
      "['Fatal' 'Non-Fatal' 'Incident' 'Unavailable' nan 'Minor' 'Serious']\n"
     ]
    }
   ],
   "source": [
    "# Import regular expressions module\n",
    "import re\n",
    "\n",
    "# Remove any numbers or text within parentheses in 'Injury.Severity' column\n",
    "data['Injury.Severity'] = data['Injury.Severity'].replace(to_replace=r'Fatal.*', value='Fatal', regex=True)\n",
    "\n",
    "# Verify the changes\n",
    "print(data['Injury.Severity'].unique())"
   ]
  },
  {
   "cell_type": "code",
   "execution_count": 25,
   "metadata": {},
   "outputs": [
    {
     "name": "stdout",
     "output_type": "stream",
     "text": [
      "0\n"
     ]
    }
   ],
   "source": [
    "# Replacing null values in the 'Injury.Severity' column with 'Unknown'\n",
    "data['Injury.Severity'].fillna('Unknown', inplace=True)\n",
    "\n",
    "# Verifying that the null values have been replaced\n",
    "print(data['Injury.Severity'].isnull().sum())"
   ]
  },
  {
   "cell_type": "code",
   "execution_count": 26,
   "metadata": {},
   "outputs": [
    {
     "name": "stdout",
     "output_type": "stream",
     "text": [
      "0\n"
     ]
    }
   ],
   "source": [
    "# Replacing null values in the 'Registration.Number' column with 'Unknown'\n",
    "data['Registration.Number'].fillna('Unknown', inplace=True)\n",
    "\n",
    "# Verifying that the null values have been replaced\n",
    "print(data['Registration.Number'].isnull().sum())"
   ]
  },
  {
   "cell_type": "code",
   "execution_count": 27,
   "metadata": {},
   "outputs": [
    {
     "name": "stdout",
     "output_type": "stream",
     "text": [
      "['STINSON' 'PIPER' 'CESSNA' ... 'JAMES R DERNOVSEK' 'ORLICAN S R O'\n",
      " 'ROYSE RALPH L']\n"
     ]
    }
   ],
   "source": [
    "# Capitalizing all values in the 'Make' column\n",
    "data['Make'] = data['Make'].str.upper()\n",
    "\n",
    "# Verifying the changes by displaying unique values\n",
    "print(data['Make'].unique())"
   ]
  },
  {
   "cell_type": "markdown",
   "metadata": {},
   "source": [
    "To ensure that all values in the Make column that start with or contain the phrase \"CESSNA\" remain as just \"CESSNA\" (removing any text before or after it), I will use a regular expression to match and replace the relevant entries. "
   ]
  },
  {
   "cell_type": "code",
   "execution_count": 28,
   "metadata": {},
   "outputs": [
    {
     "name": "stdout",
     "output_type": "stream",
     "text": [
      "['STINSON' 'PIPER' 'CESSNA' ... 'JAMES R DERNOVSEK' 'ORLICAN S R O'\n",
      " 'ROYSE RALPH L']\n"
     ]
    }
   ],
   "source": [
    "# Replacing any value that contains 'CESSNA' with just 'CESSNA'\n",
    "data['Make'] = data['Make'].replace(to_replace=r'.*CESSNA.*', value='CESSNA', regex=True)\n",
    "\n",
    "# Verifying the changes by displaying unique values\n",
    "print(data['Make'].unique())\n"
   ]
  },
  {
   "cell_type": "code",
   "execution_count": 29,
   "metadata": {},
   "outputs": [
    {
     "name": "stdout",
     "output_type": "stream",
     "text": [
      "['STINSON' 'PIPER' 'CESSNA' ... 'JAMES R DERNOVSEK' 'ORLICAN S R O'\n",
      " 'ROYSE RALPH L']\n"
     ]
    }
   ],
   "source": [
    "# Replacing 'CESNA' with 'CESSNA' in the 'Make' column\n",
    "data['Make'] = data['Make'].replace('CESNA', 'CESSNA')\n",
    "\n",
    "# Verifying the changes by displaying unique values\n",
    "print(data['Make'].unique())"
   ]
  },
  {
   "cell_type": "code",
   "execution_count": 30,
   "metadata": {},
   "outputs": [
    {
     "name": "stdout",
     "output_type": "stream",
     "text": [
      "CESSNA           27216\n",
      "PIPER            14870\n",
      "BEECH             5372\n",
      "BOEING            2745\n",
      "BELL              2722\n",
      "                 ...  \n",
      "LUTES                1\n",
      "IZATT                1\n",
      "MINCE                1\n",
      "DANA A. MOORE        1\n",
      "ROYSE RALPH L        1\n",
      "Name: Make, Length: 7571, dtype: int64\n"
     ]
    }
   ],
   "source": [
    "# Counting occurrences of each unique value in the 'Make' column\n",
    "make_counts = data['Make'].value_counts()\n",
    "\n",
    "# Displaying the counts\n",
    "print(make_counts)\n"
   ]
  },
  {
   "cell_type": "code",
   "execution_count": 31,
   "metadata": {},
   "outputs": [
    {
     "name": "stdout",
     "output_type": "stream",
     "text": [
      "63\n"
     ]
    }
   ],
   "source": [
    "# Checking for null values in the 'Make' column\n",
    "null_count_make = data['Make'].isnull().sum()\n",
    "\n",
    "# Displaying the count of null values\n",
    "print(null_count_make)\n"
   ]
  },
  {
   "cell_type": "code",
   "execution_count": 32,
   "metadata": {},
   "outputs": [
    {
     "name": "stdout",
     "output_type": "stream",
     "text": [
      "0\n"
     ]
    }
   ],
   "source": [
    "# Replacing null values in the 'Make' column with 'UNKNOWN'\n",
    "data['Make'].fillna('UNKNOWN', inplace=True)\n",
    "\n",
    "# Verifying that the null values are being replaced\n",
    "print(data['Make'].isnull().sum())\n"
   ]
  },
  {
   "cell_type": "code",
   "execution_count": 33,
   "metadata": {},
   "outputs": [
    {
     "data": {
      "text/plain": [
       "92"
      ]
     },
     "execution_count": 33,
     "metadata": {},
     "output_type": "execute_result"
    }
   ],
   "source": [
    "# Checking for null values in the 'Model' column\n",
    "null_count_model = data['Model'].isnull().sum()\n",
    "\n",
    "null_count_model"
   ]
  },
  {
   "cell_type": "code",
   "execution_count": 34,
   "metadata": {},
   "outputs": [
    {
     "name": "stdout",
     "output_type": "stream",
     "text": [
      "0\n"
     ]
    }
   ],
   "source": [
    "# Replacing null values in the 'Model' column with 'Unknown'\n",
    "data['Model'].fillna('Unknown', inplace=True)\n",
    "\n",
    "# Verifying that the null values are being replaced\n",
    "print(data['Model'].isnull().sum())"
   ]
  },
  {
   "cell_type": "code",
   "execution_count": 35,
   "metadata": {},
   "outputs": [
    {
     "name": "stdout",
     "output_type": "stream",
     "text": [
      "0\n"
     ]
    }
   ],
   "source": [
    "# Finding the mode value of the 'Amateur.Built' column\n",
    "mode_value = data['Amateur.Built'].mode()[0]\n",
    "\n",
    "# Replacing null values in the 'Amateur.Built' column with the mode value\n",
    "data['Amateur.Built'].fillna(mode_value, inplace=True)\n",
    "\n",
    "# Verifying that the null values are being replaced\n",
    "print(data['Amateur.Built'].isnull().sum())\n"
   ]
  },
  {
   "cell_type": "code",
   "execution_count": 36,
   "metadata": {},
   "outputs": [
    {
     "name": "stdout",
     "output_type": "stream",
     "text": [
      "0\n"
     ]
    }
   ],
   "source": [
    "# Finding the mode value of the 'Number.of.Engines' column\n",
    "mode_value = data['Number.of.Engines'].mode()[0]\n",
    "\n",
    "# Replacing null values with the mode value\n",
    "data['Number.of.Engines'].fillna(mode_value, inplace=True)\n",
    "\n",
    "# Verifying that the null values are being replaced\n",
    "print(data['Number.of.Engines'].isnull().sum())"
   ]
  },
  {
   "cell_type": "code",
   "execution_count": 37,
   "metadata": {},
   "outputs": [
    {
     "name": "stdout",
     "output_type": "stream",
     "text": [
      "0\n"
     ]
    }
   ],
   "source": [
    "# Finding the mode value of the 'Engine.Type' column\n",
    "mode_value = data['Engine.Type'].mode()[0]\n",
    "\n",
    "# Replacing null values in the 'Engine.Type' column with the mode value\n",
    "data['Engine.Type'].fillna(mode_value, inplace=True)\n",
    "\n",
    "# Verifying that the null values are being replaced\n",
    "print(data['Engine.Type'].isnull().sum())"
   ]
  },
  {
   "cell_type": "code",
   "execution_count": 38,
   "metadata": {},
   "outputs": [
    {
     "data": {
      "text/html": [
       "<div>\n",
       "<style scoped>\n",
       "    .dataframe tbody tr th:only-of-type {\n",
       "        vertical-align: middle;\n",
       "    }\n",
       "\n",
       "    .dataframe tbody tr th {\n",
       "        vertical-align: top;\n",
       "    }\n",
       "\n",
       "    .dataframe thead th {\n",
       "        text-align: right;\n",
       "    }\n",
       "</style>\n",
       "<table border=\"1\" class=\"dataframe\">\n",
       "  <thead>\n",
       "    <tr style=\"text-align: right;\">\n",
       "      <th></th>\n",
       "      <th>Event.Id</th>\n",
       "      <th>Investigation.Type</th>\n",
       "      <th>Accident.Number</th>\n",
       "      <th>Event.Date</th>\n",
       "      <th>Location</th>\n",
       "      <th>Country</th>\n",
       "      <th>Airport.Name</th>\n",
       "      <th>Injury.Severity</th>\n",
       "      <th>Aircraft.damage</th>\n",
       "      <th>Aircraft.Category</th>\n",
       "      <th>Registration.Number</th>\n",
       "      <th>Make</th>\n",
       "      <th>Model</th>\n",
       "      <th>Amateur.Built</th>\n",
       "      <th>Number.of.Engines</th>\n",
       "      <th>Engine.Type</th>\n",
       "      <th>FAR.Description</th>\n",
       "      <th>Schedule</th>\n",
       "      <th>Purpose.of.flight</th>\n",
       "      <th>Total.Fatal.Injuries</th>\n",
       "      <th>Total.Serious.Injuries</th>\n",
       "      <th>Total.Minor.Injuries</th>\n",
       "      <th>Total.Uninjured</th>\n",
       "      <th>Weather.Condition</th>\n",
       "      <th>Broad.phase.of.flight</th>\n",
       "      <th>Report.Status</th>\n",
       "    </tr>\n",
       "  </thead>\n",
       "  <tbody>\n",
       "    <tr>\n",
       "      <th>0</th>\n",
       "      <td>20001218X45444</td>\n",
       "      <td>Accident</td>\n",
       "      <td>SEA87LA080</td>\n",
       "      <td>1948-10-24</td>\n",
       "      <td>MOOSE CREEK, ID</td>\n",
       "      <td>United States</td>\n",
       "      <td>Unknown</td>\n",
       "      <td>Fatal</td>\n",
       "      <td>Destroyed</td>\n",
       "      <td>Airplane</td>\n",
       "      <td>NC6404</td>\n",
       "      <td>STINSON</td>\n",
       "      <td>108-3</td>\n",
       "      <td>No</td>\n",
       "      <td>1.0</td>\n",
       "      <td>Reciprocating</td>\n",
       "      <td>NaN</td>\n",
       "      <td>NaN</td>\n",
       "      <td>Personal</td>\n",
       "      <td>2.0</td>\n",
       "      <td>0.0</td>\n",
       "      <td>0.0</td>\n",
       "      <td>0.0</td>\n",
       "      <td>UNK</td>\n",
       "      <td>Cruise</td>\n",
       "      <td>Probable Cause</td>\n",
       "    </tr>\n",
       "    <tr>\n",
       "      <th>1</th>\n",
       "      <td>20001218X45447</td>\n",
       "      <td>Accident</td>\n",
       "      <td>LAX94LA336</td>\n",
       "      <td>1962-07-19</td>\n",
       "      <td>BRIDGEPORT, CA</td>\n",
       "      <td>United States</td>\n",
       "      <td>Unknown</td>\n",
       "      <td>Fatal</td>\n",
       "      <td>Destroyed</td>\n",
       "      <td>Airplane</td>\n",
       "      <td>N5069P</td>\n",
       "      <td>PIPER</td>\n",
       "      <td>PA24-180</td>\n",
       "      <td>No</td>\n",
       "      <td>1.0</td>\n",
       "      <td>Reciprocating</td>\n",
       "      <td>NaN</td>\n",
       "      <td>NaN</td>\n",
       "      <td>Personal</td>\n",
       "      <td>4.0</td>\n",
       "      <td>0.0</td>\n",
       "      <td>0.0</td>\n",
       "      <td>0.0</td>\n",
       "      <td>UNK</td>\n",
       "      <td>Unknown</td>\n",
       "      <td>Probable Cause</td>\n",
       "    </tr>\n",
       "    <tr>\n",
       "      <th>2</th>\n",
       "      <td>20061025X01555</td>\n",
       "      <td>Accident</td>\n",
       "      <td>NYC07LA005</td>\n",
       "      <td>1974-08-30</td>\n",
       "      <td>Saltville, VA</td>\n",
       "      <td>United States</td>\n",
       "      <td>Unknown</td>\n",
       "      <td>Fatal</td>\n",
       "      <td>Destroyed</td>\n",
       "      <td>Airplane</td>\n",
       "      <td>N5142R</td>\n",
       "      <td>CESSNA</td>\n",
       "      <td>172M</td>\n",
       "      <td>No</td>\n",
       "      <td>1.0</td>\n",
       "      <td>Reciprocating</td>\n",
       "      <td>NaN</td>\n",
       "      <td>NaN</td>\n",
       "      <td>Personal</td>\n",
       "      <td>3.0</td>\n",
       "      <td>NaN</td>\n",
       "      <td>NaN</td>\n",
       "      <td>NaN</td>\n",
       "      <td>IMC</td>\n",
       "      <td>Cruise</td>\n",
       "      <td>Probable Cause</td>\n",
       "    </tr>\n",
       "    <tr>\n",
       "      <th>3</th>\n",
       "      <td>20001218X45448</td>\n",
       "      <td>Accident</td>\n",
       "      <td>LAX96LA321</td>\n",
       "      <td>1977-06-19</td>\n",
       "      <td>EUREKA, CA</td>\n",
       "      <td>United States</td>\n",
       "      <td>Unknown</td>\n",
       "      <td>Fatal</td>\n",
       "      <td>Destroyed</td>\n",
       "      <td>Airplane</td>\n",
       "      <td>N1168J</td>\n",
       "      <td>ROCKWELL</td>\n",
       "      <td>112</td>\n",
       "      <td>No</td>\n",
       "      <td>1.0</td>\n",
       "      <td>Reciprocating</td>\n",
       "      <td>NaN</td>\n",
       "      <td>NaN</td>\n",
       "      <td>Personal</td>\n",
       "      <td>2.0</td>\n",
       "      <td>0.0</td>\n",
       "      <td>0.0</td>\n",
       "      <td>0.0</td>\n",
       "      <td>IMC</td>\n",
       "      <td>Cruise</td>\n",
       "      <td>Probable Cause</td>\n",
       "    </tr>\n",
       "    <tr>\n",
       "      <th>4</th>\n",
       "      <td>20041105X01764</td>\n",
       "      <td>Accident</td>\n",
       "      <td>CHI79FA064</td>\n",
       "      <td>1979-08-02</td>\n",
       "      <td>Canton, OH</td>\n",
       "      <td>United States</td>\n",
       "      <td>Unknown</td>\n",
       "      <td>Fatal</td>\n",
       "      <td>Destroyed</td>\n",
       "      <td>Airplane</td>\n",
       "      <td>N15NY</td>\n",
       "      <td>CESSNA</td>\n",
       "      <td>501</td>\n",
       "      <td>No</td>\n",
       "      <td>1.0</td>\n",
       "      <td>Reciprocating</td>\n",
       "      <td>NaN</td>\n",
       "      <td>NaN</td>\n",
       "      <td>Personal</td>\n",
       "      <td>1.0</td>\n",
       "      <td>2.0</td>\n",
       "      <td>NaN</td>\n",
       "      <td>0.0</td>\n",
       "      <td>VMC</td>\n",
       "      <td>Approach</td>\n",
       "      <td>Probable Cause</td>\n",
       "    </tr>\n",
       "    <tr>\n",
       "      <th>5</th>\n",
       "      <td>20170710X52551</td>\n",
       "      <td>Accident</td>\n",
       "      <td>NYC79AA106</td>\n",
       "      <td>1979-09-17</td>\n",
       "      <td>BOSTON, MA</td>\n",
       "      <td>United States</td>\n",
       "      <td>Unknown</td>\n",
       "      <td>Non-Fatal</td>\n",
       "      <td>Substantial</td>\n",
       "      <td>Airplane</td>\n",
       "      <td>CF-TLU</td>\n",
       "      <td>MCDONNELL DOUGLAS</td>\n",
       "      <td>DC9</td>\n",
       "      <td>No</td>\n",
       "      <td>2.0</td>\n",
       "      <td>Turbo Fan</td>\n",
       "      <td>Part 129: Foreign</td>\n",
       "      <td>SCHD</td>\n",
       "      <td>NaN</td>\n",
       "      <td>NaN</td>\n",
       "      <td>NaN</td>\n",
       "      <td>1.0</td>\n",
       "      <td>44.0</td>\n",
       "      <td>VMC</td>\n",
       "      <td>Climb</td>\n",
       "      <td>Probable Cause</td>\n",
       "    </tr>\n",
       "    <tr>\n",
       "      <th>6</th>\n",
       "      <td>20001218X45446</td>\n",
       "      <td>Accident</td>\n",
       "      <td>CHI81LA106</td>\n",
       "      <td>1981-08-01</td>\n",
       "      <td>COTTON, MN</td>\n",
       "      <td>United States</td>\n",
       "      <td>Unknown</td>\n",
       "      <td>Fatal</td>\n",
       "      <td>Destroyed</td>\n",
       "      <td>Airplane</td>\n",
       "      <td>N4988E</td>\n",
       "      <td>CESSNA</td>\n",
       "      <td>180</td>\n",
       "      <td>No</td>\n",
       "      <td>1.0</td>\n",
       "      <td>Reciprocating</td>\n",
       "      <td>NaN</td>\n",
       "      <td>NaN</td>\n",
       "      <td>Personal</td>\n",
       "      <td>4.0</td>\n",
       "      <td>0.0</td>\n",
       "      <td>0.0</td>\n",
       "      <td>0.0</td>\n",
       "      <td>IMC</td>\n",
       "      <td>Unknown</td>\n",
       "      <td>Probable Cause</td>\n",
       "    </tr>\n",
       "    <tr>\n",
       "      <th>7</th>\n",
       "      <td>20020909X01562</td>\n",
       "      <td>Accident</td>\n",
       "      <td>SEA82DA022</td>\n",
       "      <td>1982-01-01</td>\n",
       "      <td>PULLMAN, WA</td>\n",
       "      <td>United States</td>\n",
       "      <td>BLACKBURN AG STRIP</td>\n",
       "      <td>Non-Fatal</td>\n",
       "      <td>Substantial</td>\n",
       "      <td>Airplane</td>\n",
       "      <td>N2482N</td>\n",
       "      <td>CESSNA</td>\n",
       "      <td>140</td>\n",
       "      <td>No</td>\n",
       "      <td>1.0</td>\n",
       "      <td>Reciprocating</td>\n",
       "      <td>Part 91: General Aviation</td>\n",
       "      <td>NaN</td>\n",
       "      <td>Personal</td>\n",
       "      <td>0.0</td>\n",
       "      <td>0.0</td>\n",
       "      <td>0.0</td>\n",
       "      <td>2.0</td>\n",
       "      <td>VMC</td>\n",
       "      <td>Takeoff</td>\n",
       "      <td>Probable Cause</td>\n",
       "    </tr>\n",
       "    <tr>\n",
       "      <th>8</th>\n",
       "      <td>20020909X01561</td>\n",
       "      <td>Accident</td>\n",
       "      <td>NYC82DA015</td>\n",
       "      <td>1982-01-01</td>\n",
       "      <td>EAST HANOVER, NJ</td>\n",
       "      <td>United States</td>\n",
       "      <td>HANOVER</td>\n",
       "      <td>Non-Fatal</td>\n",
       "      <td>Substantial</td>\n",
       "      <td>Airplane</td>\n",
       "      <td>N7967Q</td>\n",
       "      <td>CESSNA</td>\n",
       "      <td>401B</td>\n",
       "      <td>No</td>\n",
       "      <td>2.0</td>\n",
       "      <td>Reciprocating</td>\n",
       "      <td>Part 91: General Aviation</td>\n",
       "      <td>NaN</td>\n",
       "      <td>Business</td>\n",
       "      <td>0.0</td>\n",
       "      <td>0.0</td>\n",
       "      <td>0.0</td>\n",
       "      <td>2.0</td>\n",
       "      <td>IMC</td>\n",
       "      <td>Landing</td>\n",
       "      <td>Probable Cause</td>\n",
       "    </tr>\n",
       "    <tr>\n",
       "      <th>9</th>\n",
       "      <td>20020909X01560</td>\n",
       "      <td>Accident</td>\n",
       "      <td>MIA82DA029</td>\n",
       "      <td>1982-01-01</td>\n",
       "      <td>JACKSONVILLE, FL</td>\n",
       "      <td>United States</td>\n",
       "      <td>JACKSONVILLE INTL</td>\n",
       "      <td>Non-Fatal</td>\n",
       "      <td>Substantial</td>\n",
       "      <td>Airplane</td>\n",
       "      <td>N3906K</td>\n",
       "      <td>NORTH AMERICAN</td>\n",
       "      <td>NAVION L-17B</td>\n",
       "      <td>No</td>\n",
       "      <td>1.0</td>\n",
       "      <td>Reciprocating</td>\n",
       "      <td>NaN</td>\n",
       "      <td>NaN</td>\n",
       "      <td>Personal</td>\n",
       "      <td>0.0</td>\n",
       "      <td>0.0</td>\n",
       "      <td>3.0</td>\n",
       "      <td>0.0</td>\n",
       "      <td>IMC</td>\n",
       "      <td>Cruise</td>\n",
       "      <td>Probable Cause</td>\n",
       "    </tr>\n",
       "  </tbody>\n",
       "</table>\n",
       "</div>"
      ],
      "text/plain": [
       "         Event.Id Investigation.Type Accident.Number  Event.Date  \\\n",
       "0  20001218X45444           Accident      SEA87LA080  1948-10-24   \n",
       "1  20001218X45447           Accident      LAX94LA336  1962-07-19   \n",
       "2  20061025X01555           Accident      NYC07LA005  1974-08-30   \n",
       "3  20001218X45448           Accident      LAX96LA321  1977-06-19   \n",
       "4  20041105X01764           Accident      CHI79FA064  1979-08-02   \n",
       "5  20170710X52551           Accident      NYC79AA106  1979-09-17   \n",
       "6  20001218X45446           Accident      CHI81LA106  1981-08-01   \n",
       "7  20020909X01562           Accident      SEA82DA022  1982-01-01   \n",
       "8  20020909X01561           Accident      NYC82DA015  1982-01-01   \n",
       "9  20020909X01560           Accident      MIA82DA029  1982-01-01   \n",
       "\n",
       "           Location        Country        Airport.Name Injury.Severity  \\\n",
       "0   MOOSE CREEK, ID  United States             Unknown           Fatal   \n",
       "1    BRIDGEPORT, CA  United States             Unknown           Fatal   \n",
       "2     Saltville, VA  United States             Unknown           Fatal   \n",
       "3        EUREKA, CA  United States             Unknown           Fatal   \n",
       "4        Canton, OH  United States             Unknown           Fatal   \n",
       "5        BOSTON, MA  United States             Unknown       Non-Fatal   \n",
       "6        COTTON, MN  United States             Unknown           Fatal   \n",
       "7       PULLMAN, WA  United States  BLACKBURN AG STRIP       Non-Fatal   \n",
       "8  EAST HANOVER, NJ  United States             HANOVER       Non-Fatal   \n",
       "9  JACKSONVILLE, FL  United States   JACKSONVILLE INTL       Non-Fatal   \n",
       "\n",
       "  Aircraft.damage Aircraft.Category Registration.Number               Make  \\\n",
       "0       Destroyed          Airplane              NC6404            STINSON   \n",
       "1       Destroyed          Airplane              N5069P              PIPER   \n",
       "2       Destroyed          Airplane              N5142R             CESSNA   \n",
       "3       Destroyed          Airplane              N1168J           ROCKWELL   \n",
       "4       Destroyed          Airplane               N15NY             CESSNA   \n",
       "5     Substantial          Airplane              CF-TLU  MCDONNELL DOUGLAS   \n",
       "6       Destroyed          Airplane              N4988E             CESSNA   \n",
       "7     Substantial          Airplane              N2482N             CESSNA   \n",
       "8     Substantial          Airplane              N7967Q             CESSNA   \n",
       "9     Substantial          Airplane              N3906K     NORTH AMERICAN   \n",
       "\n",
       "          Model Amateur.Built  Number.of.Engines    Engine.Type  \\\n",
       "0         108-3            No                1.0  Reciprocating   \n",
       "1      PA24-180            No                1.0  Reciprocating   \n",
       "2          172M            No                1.0  Reciprocating   \n",
       "3           112            No                1.0  Reciprocating   \n",
       "4           501            No                1.0  Reciprocating   \n",
       "5           DC9            No                2.0      Turbo Fan   \n",
       "6           180            No                1.0  Reciprocating   \n",
       "7           140            No                1.0  Reciprocating   \n",
       "8          401B            No                2.0  Reciprocating   \n",
       "9  NAVION L-17B            No                1.0  Reciprocating   \n",
       "\n",
       "             FAR.Description Schedule Purpose.of.flight  Total.Fatal.Injuries  \\\n",
       "0                        NaN      NaN          Personal                   2.0   \n",
       "1                        NaN      NaN          Personal                   4.0   \n",
       "2                        NaN      NaN          Personal                   3.0   \n",
       "3                        NaN      NaN          Personal                   2.0   \n",
       "4                        NaN      NaN          Personal                   1.0   \n",
       "5          Part 129: Foreign     SCHD               NaN                   NaN   \n",
       "6                        NaN      NaN          Personal                   4.0   \n",
       "7  Part 91: General Aviation      NaN          Personal                   0.0   \n",
       "8  Part 91: General Aviation      NaN          Business                   0.0   \n",
       "9                        NaN      NaN          Personal                   0.0   \n",
       "\n",
       "   Total.Serious.Injuries  Total.Minor.Injuries  Total.Uninjured  \\\n",
       "0                     0.0                   0.0              0.0   \n",
       "1                     0.0                   0.0              0.0   \n",
       "2                     NaN                   NaN              NaN   \n",
       "3                     0.0                   0.0              0.0   \n",
       "4                     2.0                   NaN              0.0   \n",
       "5                     NaN                   1.0             44.0   \n",
       "6                     0.0                   0.0              0.0   \n",
       "7                     0.0                   0.0              2.0   \n",
       "8                     0.0                   0.0              2.0   \n",
       "9                     0.0                   3.0              0.0   \n",
       "\n",
       "  Weather.Condition Broad.phase.of.flight   Report.Status  \n",
       "0               UNK                Cruise  Probable Cause  \n",
       "1               UNK               Unknown  Probable Cause  \n",
       "2               IMC                Cruise  Probable Cause  \n",
       "3               IMC                Cruise  Probable Cause  \n",
       "4               VMC              Approach  Probable Cause  \n",
       "5               VMC                 Climb  Probable Cause  \n",
       "6               IMC               Unknown  Probable Cause  \n",
       "7               VMC               Takeoff  Probable Cause  \n",
       "8               IMC               Landing  Probable Cause  \n",
       "9               IMC                Cruise  Probable Cause  "
      ]
     },
     "execution_count": 38,
     "metadata": {},
     "output_type": "execute_result"
    }
   ],
   "source": [
    "pd.set_option('display.max_columns', None)\n",
    "data.head(10)"
   ]
  },
  {
   "cell_type": "code",
   "execution_count": 39,
   "metadata": {},
   "outputs": [
    {
     "name": "stdout",
     "output_type": "stream",
     "text": [
      "0\n"
     ]
    }
   ],
   "source": [
    "# Replacing null values with 'Unknown' in the FAR.Description\n",
    "data['FAR.Description'].fillna('Unknown', inplace=True)\n",
    "\n",
    "# Verifying that the null values are being replaced\n",
    "print(data['FAR.Description'].isnull().sum())"
   ]
  },
  {
   "cell_type": "code",
   "execution_count": 40,
   "metadata": {},
   "outputs": [
    {
     "name": "stdout",
     "output_type": "stream",
     "text": [
      "0\n"
     ]
    }
   ],
   "source": [
    "# Replacing null values in the 'Schedule' column with 'Unknown'\n",
    "data['Schedule'].fillna('Unknown', inplace=True)\n",
    "\n",
    "# Verifying that the null values are being replaced\n",
    "print(data['Schedule'].isnull().sum())\n"
   ]
  },
  {
   "cell_type": "code",
   "execution_count": 41,
   "metadata": {},
   "outputs": [
    {
     "name": "stdout",
     "output_type": "stream",
     "text": [
      "0\n"
     ]
    }
   ],
   "source": [
    "# Replacing null values in the 'Purpose of Flight' column with 'Unknown'\n",
    "data['Purpose.of.flight'].fillna('Unknown', inplace=True)\n",
    "\n",
    "# Verifying that the null values are being replaced\n",
    "print(data['Purpose.of.flight'].isnull().sum())"
   ]
  },
  {
   "cell_type": "code",
   "execution_count": 42,
   "metadata": {},
   "outputs": [
    {
     "name": "stdout",
     "output_type": "stream",
     "text": [
      "0\n"
     ]
    }
   ],
   "source": [
    "# Inferring at least 1 fatality if severity is 'Fatal'\n",
    "data.loc[(data['Total.Fatal.Injuries'].isnull()) & (data['Injury.Severity'] == 'Fatal'), 'Total.Fatal.Injuries'] = 1\n",
    "\n",
    "# Setting 0 fatality if severity is 'Non-Fatal'\n",
    "data.loc[(data['Total.Fatal.Injuries'].isnull()) & (data['Injury.Severity'] == 'Non-Fatal'), 'Total.Fatal.Injuries'] = 0\n",
    "\n",
    "# Replacing null values in 'Total.Fatal.Injuries' with 'Unknown'\n",
    "data['Total.Fatal.Injuries'].fillna('Unknown', inplace=True)\n",
    "\n",
    "# Verifying the changes\n",
    "print(data['Total.Fatal.Injuries'].isnull().sum())\n"
   ]
  },
  {
   "cell_type": "code",
   "execution_count": 43,
   "metadata": {},
   "outputs": [
    {
     "name": "stdout",
     "output_type": "stream",
     "text": [
      "Total.Serious.Injuries    0\n",
      "Total.Minor.Injuries      0\n",
      "Total.Uninjured           0\n",
      "dtype: int64\n"
     ]
    }
   ],
   "source": [
    "# Replacing null values in 'Total.Serious.Injuries' with 'Unknown'\n",
    "data['Total.Serious.Injuries'].fillna('Unknown', inplace=True)\n",
    "\n",
    "# Replacing null values in 'Total.Minor.Injuries' with 'Unknown'\n",
    "data['Total.Minor.Injuries'].fillna('Unknown', inplace=True)\n",
    "\n",
    "# Replacing null values in 'Total.Uninjured' with 'Unknown'\n",
    "data['Total.Uninjured'].fillna('Unknown', inplace=True)\n",
    "\n",
    "# Verifying the changes\n",
    "print(data[['Total.Serious.Injuries', 'Total.Minor.Injuries', 'Total.Uninjured']].isnull().sum())\n"
   ]
  },
  {
   "cell_type": "code",
   "execution_count": 44,
   "metadata": {},
   "outputs": [
    {
     "name": "stdout",
     "output_type": "stream",
     "text": [
      "Weather.Condition        0\n",
      "Broad.phase.of.flight    0\n",
      "dtype: int64\n"
     ]
    }
   ],
   "source": [
    "# Replacing null values in 'Weather.Condition' with 'UNK'\n",
    "data['Weather.Condition'].fillna('UNK', inplace=True)\n",
    "\n",
    "# Replacing null values in 'Broad.phase.of.flight' with 'Unknown'\n",
    "data['Broad.phase.of.flight'].fillna('Unknown', inplace=True)\n",
    "\n",
    "# Verifying the changes\n",
    "print(data[['Weather.Condition', 'Broad.phase.of.flight']].isnull().sum())\n"
   ]
  },
  {
   "cell_type": "code",
   "execution_count": 45,
   "metadata": {},
   "outputs": [
    {
     "name": "stdout",
     "output_type": "stream",
     "text": [
      "0\n"
     ]
    }
   ],
   "source": [
    "# Replacing null values in 'Report.Status' with 'Not Reported'\n",
    "data['Report.Status'].fillna('Not Reported', inplace=True)\n",
    "\n",
    "# Verifying the changes\n",
    "print(data['Report.Status'].isnull().sum())"
   ]
  },
  {
   "cell_type": "code",
   "execution_count": 46,
   "metadata": {},
   "outputs": [
    {
     "data": {
      "text/plain": [
       "Event.Id                  0\n",
       "Investigation.Type        0\n",
       "Accident.Number           0\n",
       "Event.Date                0\n",
       "Location                  0\n",
       "Country                   0\n",
       "Airport.Name              0\n",
       "Injury.Severity           0\n",
       "Aircraft.damage           0\n",
       "Aircraft.Category         0\n",
       "Registration.Number       0\n",
       "Make                      0\n",
       "Model                     0\n",
       "Amateur.Built             0\n",
       "Number.of.Engines         0\n",
       "Engine.Type               0\n",
       "FAR.Description           0\n",
       "Schedule                  0\n",
       "Purpose.of.flight         0\n",
       "Total.Fatal.Injuries      0\n",
       "Total.Serious.Injuries    0\n",
       "Total.Minor.Injuries      0\n",
       "Total.Uninjured           0\n",
       "Weather.Condition         0\n",
       "Broad.phase.of.flight     0\n",
       "Report.Status             0\n",
       "dtype: int64"
      ]
     },
     "execution_count": 46,
     "metadata": {},
     "output_type": "execute_result"
    }
   ],
   "source": [
    "# Displaying the total number of null values in each column\n",
    "data.isnull().sum()"
   ]
  },
  {
   "cell_type": "markdown",
   "metadata": {},
   "source": [
    "# EXPLORATORY DATA ANALYSIS"
   ]
  },
  {
   "cell_type": "code",
   "execution_count": 47,
   "metadata": {},
   "outputs": [
    {
     "data": {
      "text/html": [
       "<div>\n",
       "<style scoped>\n",
       "    .dataframe tbody tr th:only-of-type {\n",
       "        vertical-align: middle;\n",
       "    }\n",
       "\n",
       "    .dataframe tbody tr th {\n",
       "        vertical-align: top;\n",
       "    }\n",
       "\n",
       "    .dataframe thead th {\n",
       "        text-align: right;\n",
       "    }\n",
       "</style>\n",
       "<table border=\"1\" class=\"dataframe\">\n",
       "  <thead>\n",
       "    <tr style=\"text-align: right;\">\n",
       "      <th></th>\n",
       "      <th>count</th>\n",
       "      <th>mean</th>\n",
       "      <th>std</th>\n",
       "      <th>min</th>\n",
       "      <th>25%</th>\n",
       "      <th>50%</th>\n",
       "      <th>75%</th>\n",
       "      <th>max</th>\n",
       "    </tr>\n",
       "  </thead>\n",
       "  <tbody>\n",
       "    <tr>\n",
       "      <th>Number.of.Engines</th>\n",
       "      <td>88889.0</td>\n",
       "      <td>1.136552</td>\n",
       "      <td>0.432545</td>\n",
       "      <td>0.0</td>\n",
       "      <td>1.0</td>\n",
       "      <td>1.0</td>\n",
       "      <td>1.0</td>\n",
       "      <td>8.0</td>\n",
       "    </tr>\n",
       "  </tbody>\n",
       "</table>\n",
       "</div>"
      ],
      "text/plain": [
       "                     count      mean       std  min  25%  50%  75%  max\n",
       "Number.of.Engines  88889.0  1.136552  0.432545  0.0  1.0  1.0  1.0  8.0"
      ]
     },
     "execution_count": 47,
     "metadata": {},
     "output_type": "execute_result"
    }
   ],
   "source": [
    "data.describe().T"
   ]
  },
  {
   "cell_type": "code",
   "execution_count": 48,
   "metadata": {},
   "outputs": [
    {
     "name": "stdout",
     "output_type": "stream",
     "text": [
      "       Number.of.Engines\n",
      "count       88889.000000\n",
      "mean            1.136552\n",
      "std             0.432545\n",
      "min             0.000000\n",
      "25%             1.000000\n",
      "50%             1.000000\n",
      "75%             1.000000\n",
      "max             8.000000\n"
     ]
    }
   ],
   "source": [
    "# Generating descriptive statistics for numerical columns\n",
    "summary_statistics = data.describe(include=[np.number])\n",
    "\n",
    "# Displaying the summary statistics\n",
    "print(summary_statistics)\n"
   ]
  },
  {
   "cell_type": "code",
   "execution_count": 49,
   "metadata": {},
   "outputs": [
    {
     "name": "stdout",
     "output_type": "stream",
     "text": [
      "--- Event.Id ---\n",
      "20001212X19172    3\n",
      "20001214X45071    3\n",
      "20220730105623    2\n",
      "20051213X01965    2\n",
      "20001212X16765    2\n",
      "                 ..\n",
      "20001211X14216    1\n",
      "20001211X14239    1\n",
      "20001211X14207    1\n",
      "20001211X14204    1\n",
      "20221230106513    1\n",
      "Name: Event.Id, Length: 87951, dtype: int64\n",
      "\n",
      "\n",
      "--- Investigation.Type ---\n",
      "Accident    85015\n",
      "Incident     3874\n",
      "Name: Investigation.Type, dtype: int64\n",
      "\n",
      "\n",
      "--- Accident.Number ---\n",
      "CEN22LA149    2\n",
      "WPR23LA041    2\n",
      "WPR23LA045    2\n",
      "DCA22WA214    2\n",
      "DCA22WA089    2\n",
      "             ..\n",
      "LAX92FA065    1\n",
      "ANC92T#A12    1\n",
      "MIA92LA049    1\n",
      "NYC92LA048    1\n",
      "ERA23LA097    1\n",
      "Name: Accident.Number, Length: 88863, dtype: int64\n",
      "\n",
      "\n",
      "--- Event.Date ---\n",
      "1984-06-30    25\n",
      "1982-05-16    25\n",
      "2000-07-08    25\n",
      "1983-08-05    24\n",
      "1984-08-25    24\n",
      "              ..\n",
      "2014-03-16     1\n",
      "2014-03-15     1\n",
      "2014-03-12     1\n",
      "2014-03-10     1\n",
      "2022-12-29     1\n",
      "Name: Event.Date, Length: 14782, dtype: int64\n",
      "\n",
      "\n",
      "--- Location ---\n",
      "ANCHORAGE, AK       434\n",
      "MIAMI, FL           200\n",
      "ALBUQUERQUE, NM     196\n",
      "HOUSTON, TX         193\n",
      "CHICAGO, IL         184\n",
      "                   ... \n",
      "MALLARDS LDG, GA      1\n",
      "LODGEPOLE, MT         1\n",
      "VERNILLION, SD        1\n",
      "MCMECHEN, WV          1\n",
      "Brasnorte,            1\n",
      "Name: Location, Length: 27758, dtype: int64\n",
      "\n",
      "\n",
      "--- Country ---\n",
      "United States                       82248\n",
      "Brazil                                374\n",
      "Canada                                359\n",
      "Mexico                                358\n",
      "United Kingdom                        344\n",
      "                                    ...  \n",
      "Saint Vincent and the Grenadines        1\n",
      "Cambodia                                1\n",
      "Malampa                                 1\n",
      "AY                                      1\n",
      "Turks and Caicos Islands                1\n",
      "Name: Country, Length: 219, dtype: int64\n",
      "\n",
      "\n",
      "--- Airport.Name ---\n",
      "Unknown                           36106\n",
      "Private                             240\n",
      "PRIVATE                             224\n",
      "Private Airstrip                    153\n",
      "NONE                                146\n",
      "                                  ...  \n",
      "WESTCHESTER COUNTY ARPT               1\n",
      "IL VALLEY PARACHUTE CLUB              1\n",
      "LAUGHLIN/BULLHEAD                     1\n",
      "Otsego County Airport                 1\n",
      "WICHITA DWIGHT D EISENHOWER NT        1\n",
      "Name: Airport.Name, Length: 24871, dtype: int64\n",
      "\n",
      "\n",
      "--- Injury.Severity ---\n",
      "Non-Fatal      67357\n",
      "Fatal          17826\n",
      "Incident        2219\n",
      "Unknown         1000\n",
      "Minor            218\n",
      "Serious          173\n",
      "Unavailable       96\n",
      "Name: Injury.Severity, dtype: int64\n",
      "\n",
      "\n",
      "--- Aircraft.damage ---\n",
      "Substantial    66154\n",
      "Destroyed      19631\n",
      "Minor           2976\n",
      "Unknown          128\n",
      "Name: Aircraft.damage, dtype: int64\n",
      "\n",
      "\n",
      "--- Aircraft.Category ---\n",
      "Airplane             84219\n",
      "Helicopter            3440\n",
      "Glider                 508\n",
      "Balloon                231\n",
      "Gyrocraft              173\n",
      "Weight-Shift           161\n",
      "Powered Parachute       91\n",
      "Ultralight              30\n",
      "Unknown                 14\n",
      "WSFT                     9\n",
      "Powered-Lift             5\n",
      "Blimp                    4\n",
      "UNK                      2\n",
      "Rocket                   1\n",
      "ULTR                     1\n",
      "Name: Aircraft.Category, dtype: int64\n",
      "\n",
      "\n",
      "--- Registration.Number ---\n",
      "Unknown    1320\n",
      "NONE        344\n",
      "UNREG       126\n",
      "None         65\n",
      "UNK          13\n",
      "           ... \n",
      "N93478        1\n",
      "N519UA        1\n",
      "N8840W        1\n",
      "N21040        1\n",
      "N9026P        1\n",
      "Name: Registration.Number, Length: 79105, dtype: int64\n",
      "\n",
      "\n",
      "--- Make ---\n",
      "CESSNA           27216\n",
      "PIPER            14870\n",
      "BEECH             5372\n",
      "BOEING            2745\n",
      "BELL              2722\n",
      "                 ...  \n",
      "LUTES                1\n",
      "IZATT                1\n",
      "MINCE                1\n",
      "DANA A. MOORE        1\n",
      "ROYSE RALPH L        1\n",
      "Name: Make, Length: 7571, dtype: int64\n",
      "\n",
      "\n",
      "--- Model ---\n",
      "152              2367\n",
      "172              1756\n",
      "172N             1164\n",
      "PA-28-140         932\n",
      "150               829\n",
      "                 ... \n",
      "GC-1-A              1\n",
      "737-3S3             1\n",
      "MBB-BK117-B2        1\n",
      "GLASSAIR GL25       1\n",
      "M-8 EAGLE           1\n",
      "Name: Model, Length: 12318, dtype: int64\n",
      "\n",
      "\n",
      "--- Amateur.Built ---\n",
      "No     80414\n",
      "Yes     8475\n",
      "Name: Amateur.Built, dtype: int64\n",
      "\n",
      "\n",
      "--- Engine.Type ---\n",
      "Reciprocating      76607\n",
      "Turbo Shaft         3609\n",
      "Turbo Prop          3391\n",
      "Turbo Fan           2481\n",
      "Unknown             2051\n",
      "Turbo Jet            703\n",
      "None                  19\n",
      "Geared Turbofan       12\n",
      "Electric              10\n",
      "LR                     2\n",
      "NONE                   2\n",
      "Hybrid Rocket          1\n",
      "UNK                    1\n",
      "Name: Engine.Type, dtype: int64\n",
      "\n",
      "\n",
      "--- FAR.Description ---\n",
      "Unknown                           56888\n",
      "091                               18221\n",
      "Part 91: General Aviation          6486\n",
      "NUSN                               1584\n",
      "NUSC                               1013\n",
      "137                                1010\n",
      "135                                 746\n",
      "121                                 679\n",
      "Part 137: Agricultural              437\n",
      "UNK                                 371\n",
      "Part 135: Air Taxi & Commuter       298\n",
      "PUBU                                253\n",
      "129                                 246\n",
      "Part 121: Air Carrier               165\n",
      "133                                 107\n",
      "Part 129: Foreign                   100\n",
      "Non-U.S., Non-Commercial             97\n",
      "Non-U.S., Commercial                 93\n",
      "Part 133: Rotorcraft Ext. Load       32\n",
      "Public Use                           19\n",
      "091K                                 14\n",
      "ARMF                                  8\n",
      "125                                   5\n",
      "Part 125: 20+ Pax,6000+ lbs           5\n",
      "107                                   4\n",
      "Public Aircraft                       2\n",
      "103                                   2\n",
      "Part 91 Subpart K: Fractional         1\n",
      "Armed Forces                          1\n",
      "Part 91F: Special Flt Ops.            1\n",
      "437                                   1\n",
      "Name: FAR.Description, dtype: int64\n",
      "\n",
      "\n",
      "--- Schedule ---\n",
      "Unknown    76307\n",
      "NSCH        4474\n",
      "UNK         4099\n",
      "SCHD        4009\n",
      "Name: Schedule, dtype: int64\n",
      "\n",
      "\n",
      "--- Purpose.of.flight ---\n",
      "Personal                     49448\n",
      "Unknown                      12994\n",
      "Instructional                10601\n",
      "Aerial Application            4712\n",
      "Business                      4018\n",
      "Positioning                   1646\n",
      "Other Work Use                1264\n",
      "Ferry                          812\n",
      "Aerial Observation             794\n",
      "Public Aircraft                720\n",
      "Executive/corporate            553\n",
      "Flight Test                    405\n",
      "Skydiving                      182\n",
      "External Load                  123\n",
      "Public Aircraft - Federal      105\n",
      "Banner Tow                     101\n",
      "Air Race show                   99\n",
      "Public Aircraft - Local         74\n",
      "Public Aircraft - State         64\n",
      "Air Race/show                   59\n",
      "Glider Tow                      53\n",
      "Firefighting                    40\n",
      "Air Drop                        11\n",
      "ASHO                             6\n",
      "PUBS                             4\n",
      "PUBL                             1\n",
      "Name: Purpose.of.flight, dtype: int64\n",
      "\n",
      "\n",
      "--- Total.Fatal.Injuries ---\n",
      "0.0      70346\n",
      "1.0       8883\n",
      "2.0       5173\n",
      "3.0       1589\n",
      "4.0       1103\n",
      "         ...  \n",
      "156.0        1\n",
      "68.0         1\n",
      "31.0         1\n",
      "115.0        1\n",
      "176.0        1\n",
      "Name: Total.Fatal.Injuries, Length: 126, dtype: int64\n",
      "\n",
      "\n",
      "--- Total.Serious.Injuries ---\n",
      "0.0        63289\n",
      "Unknown    12510\n",
      "1.0         9125\n",
      "2.0         2815\n",
      "3.0          629\n",
      "4.0          258\n",
      "5.0           78\n",
      "6.0           41\n",
      "7.0           27\n",
      "9.0           16\n",
      "8.0           13\n",
      "10.0          13\n",
      "13.0           9\n",
      "11.0           6\n",
      "12.0           5\n",
      "26.0           5\n",
      "14.0           5\n",
      "20.0           3\n",
      "25.0           3\n",
      "28.0           3\n",
      "59.0           2\n",
      "47.0           2\n",
      "21.0           2\n",
      "50.0           2\n",
      "17.0           2\n",
      "53.0           1\n",
      "67.0           1\n",
      "34.0           1\n",
      "33.0           1\n",
      "125.0          1\n",
      "35.0           1\n",
      "137.0          1\n",
      "19.0           1\n",
      "27.0           1\n",
      "88.0           1\n",
      "161.0          1\n",
      "41.0           1\n",
      "44.0           1\n",
      "63.0           1\n",
      "55.0           1\n",
      "23.0           1\n",
      "43.0           1\n",
      "39.0           1\n",
      "45.0           1\n",
      "18.0           1\n",
      "16.0           1\n",
      "60.0           1\n",
      "106.0          1\n",
      "81.0           1\n",
      "15.0           1\n",
      "22.0           1\n",
      "Name: Total.Serious.Injuries, dtype: int64\n",
      "\n",
      "\n",
      "--- Total.Minor.Injuries ---\n",
      "0.0        61454\n",
      "Unknown    11933\n",
      "1.0        10320\n",
      "2.0         3576\n",
      "3.0          784\n",
      "4.0          372\n",
      "5.0          129\n",
      "6.0           67\n",
      "7.0           59\n",
      "9.0           22\n",
      "8.0           20\n",
      "13.0          14\n",
      "10.0          11\n",
      "12.0          11\n",
      "14.0          10\n",
      "11.0           9\n",
      "17.0           8\n",
      "19.0           6\n",
      "18.0           6\n",
      "24.0           5\n",
      "22.0           5\n",
      "25.0           4\n",
      "16.0           4\n",
      "15.0           4\n",
      "33.0           4\n",
      "20.0           3\n",
      "21.0           3\n",
      "26.0           3\n",
      "23.0           3\n",
      "32.0           3\n",
      "27.0           3\n",
      "50.0           2\n",
      "30.0           2\n",
      "36.0           2\n",
      "31.0           2\n",
      "28.0           2\n",
      "42.0           2\n",
      "38.0           2\n",
      "57.0           1\n",
      "65.0           1\n",
      "84.0           1\n",
      "43.0           1\n",
      "35.0           1\n",
      "380.0          1\n",
      "47.0           1\n",
      "68.0           1\n",
      "200.0          1\n",
      "71.0           1\n",
      "58.0           1\n",
      "171.0          1\n",
      "39.0           1\n",
      "96.0           1\n",
      "29.0           1\n",
      "69.0           1\n",
      "62.0           1\n",
      "45.0           1\n",
      "125.0          1\n",
      "40.0           1\n",
      "Name: Total.Minor.Injuries, dtype: int64\n",
      "\n",
      "\n",
      "--- Total.Uninjured ---\n",
      "0.0        29879\n",
      "1.0        25101\n",
      "2.0        15988\n",
      "Unknown     5912\n",
      "3.0         4313\n",
      "           ...  \n",
      "558.0          1\n",
      "412.0          1\n",
      "338.0          1\n",
      "401.0          1\n",
      "455.0          1\n",
      "Name: Total.Uninjured, Length: 380, dtype: int64\n",
      "\n",
      "\n",
      "--- Weather.Condition ---\n",
      "VMC    77303\n",
      "IMC     5976\n",
      "UNK     5348\n",
      "Unk      262\n",
      "Name: Weather.Condition, dtype: int64\n",
      "\n",
      "\n",
      "--- Broad.phase.of.flight ---\n",
      "Unknown        27713\n",
      "Landing        15428\n",
      "Takeoff        12493\n",
      "Cruise         10269\n",
      "Maneuvering     8144\n",
      "Approach        6546\n",
      "Climb           2034\n",
      "Taxi            1958\n",
      "Descent         1887\n",
      "Go-around       1353\n",
      "Standing         945\n",
      "Other            119\n",
      "Name: Broad.phase.of.flight, dtype: int64\n",
      "\n",
      "\n",
      "--- Report.Status ---\n",
      "Probable Cause                                                                                                                                                       61754\n",
      "Not Reported                                                                                                                                                          6381\n",
      "Foreign                                                                                                                                                               1999\n",
      "<br /><br />                                                                                                                                                           167\n",
      "Factual                                                                                                                                                                145\n",
      "                                                                                                                                                                     ...  \n",
      "The pilot's incapacitation due to a ruptured berry aneurysm during takeoff.                                                                                              1\n",
      "The unauthorized operation of the helicopter by a non-certificated and unqualified individual who failed to maintain helicopter control.                                 1\n",
      "A loss of engine power due to the pilot's failure to utilize carburetor heat while maneuvering.\\r\\n.                                                                     1\n",
      "The pilot's failure to maintain adequate separation behind a corporate jet, which resulted in an encounter with wake turbulence and a subsequent loss of control.        1\n",
      "The pilots loss of control due to a wind gust during landing.                                                                                                           1\n",
      "Name: Report.Status, Length: 17076, dtype: int64\n",
      "\n",
      "\n"
     ]
    }
   ],
   "source": [
    "# Generating descriptive statistics for categorical columns\n",
    "categorical_columns = data.select_dtypes(include=['object']).columns\n",
    "\n",
    "# Displaying the count of unique values for each categorical column\n",
    "for column in categorical_columns:\n",
    "    print(f\"--- {column} ---\")\n",
    "    print(data[column].value_counts(dropna=False))\n",
    "    print(\"\\n\")\n"
   ]
  },
  {
   "cell_type": "markdown",
   "metadata": {},
   "source": [
    "To determine the best aircraft for the company based on historical data, I will use several visualizations to uncover trends, identify patterns, and provide insights. Let me focus on key aspects like aircraft safety, injury distribution, and incident factors using matplotlib.pyplot and other visualization tools like seaborn."
   ]
  },
  {
   "cell_type": "markdown",
   "metadata": {},
   "source": [
    "# 1. Distribution of Incidents by Aircraft Make\n",
    "I want to see how incidents are distributed across different aircraft makes, which can help identify if any particular make has a high risk."
   ]
  },
  {
   "cell_type": "code",
   "execution_count": 50,
   "metadata": {},
   "outputs": [
    {
     "data": {
      "image/png": "[encoded data removed]",
      "text/plain": [
       "<Figure size 864x432 with 1 Axes>"
      ]
     },
     "metadata": {
      "needs_background": "light"
     },
     "output_type": "display_data"
    }
   ],
   "source": [
    "import matplotlib.pyplot as plt\n",
    "import seaborn as sns\n",
    "\n",
    "# Plot the frequency of incidents by aircraft make\n",
    "plt.figure(figsize=(12,6))\n",
    "make_counts = data['Make'].value_counts().head(20)  # Top 20 aircraft makes\n",
    "sns.barplot(x=make_counts.index, y= make_counts.values, palette='viridis')\n",
    "plt.xticks(rotation=90)\n",
    "plt.title('Top 20 Aircraft Makes by Number of Incidents')\n",
    "plt.xlabel('Aircraft Make')\n",
    "plt.ylabel('Number of Incidents')\n",
    "plt.show()\n"
   ]
  },
  {
   "cell_type": "markdown",
   "metadata": {},
   "source": [
    "# 2. Injury Severity Distribution\n",
    "I want to analyze how injury severities (fatal, serious, minor, uninjured) are distributed across the dataset to understand the most common outcomes in incidents."
   ]
  },
  {
   "cell_type": "code",
   "execution_count": 51,
   "metadata": {},
   "outputs": [
    {
     "data": {
      "image/png": "[encoded data removed]",
      "text/plain": [
       "<Figure size 576x432 with 1 Axes>"
      ]
     },
     "metadata": {
      "needs_background": "light"
     },
     "output_type": "display_data"
    }
   ],
   "source": [
    "# Plot the distribution of injury severity\n",
    "plt.figure(figsize=(8,6))\n",
    "sns.countplot(data=data, x='Injury.Severity', palette='coolwarm')\n",
    "plt.title('Distribution of Injury Severity in Aircraft Incidents')\n",
    "plt.xlabel('Injury Severity')\n",
    "plt.ylabel('Frequency')\n",
    "plt.show()\n"
   ]
  },
  {
   "cell_type": "markdown",
   "metadata": {},
   "source": [
    "# 3. Total Injuries Distribution (Fatal, Serious, Minor, Uninjured)\n",
    "Visualizing the distribution of total injuries can give insight into the overall safety of aircraft types."
   ]
  },
  {
   "cell_type": "code",
   "execution_count": 52,
   "metadata": {},
   "outputs": [
    {
     "data": {
      "text/plain": [
       "<Figure size 864x432 with 0 Axes>"
      ]
     },
     "metadata": {},
     "output_type": "display_data"
    },
    {
     "data": {
      "image/png": "[encoded data removed]",
      "text/plain": [
       "<Figure size 720x432 with 1 Axes>"
      ]
     },
     "metadata": {
      "needs_background": "light"
     },
     "output_type": "display_data"
    }
   ],
   "source": [
    "# Select injury-related columns\n",
    "injury_columns = ['Total.Fatal.Injuries', 'Total.Serious.Injuries', 'Total.Minor.Injuries', 'Total.Uninjured']\n",
    "\n",
    "# Ensure the injury columns are numeric\n",
    "data[injury_columns] = data[injury_columns].apply(pd.to_numeric, errors='coerce')\n",
    "\n",
    "# Plot frequency of injury columns\n",
    "plt.figure(figsize=(12,6))\n",
    "data[injury_columns].plot(kind='box', figsize=(10,6), grid=True)\n",
    "plt.title('Distribution of Injuries Across Different Injury Types')\n",
    "plt.ylabel('Number of Injuries')\n",
    "plt.show()\n"
   ]
  },
  {
   "cell_type": "markdown",
   "metadata": {},
   "source": [
    "# 4. Incidents by Weather Condition\n",
    "Since weather conditions play a key role in aviation risk, I can analyze how incidents vary with different weather conditions."
   ]
  },
  {
   "cell_type": "code",
   "execution_count": 53,
   "metadata": {},
   "outputs": [
    {
     "data": {
      "image/png": "[encoded data removed]",
      "text/plain": [
       "<Figure size 576x432 with 1 Axes>"
      ]
     },
     "metadata": {
      "needs_background": "light"
     },
     "output_type": "display_data"
    }
   ],
   "source": [
    "# Plot incidents based on weather conditions\n",
    "plt.figure(figsize=(8,6))\n",
    "sns.countplot(data=data, x='Weather.Condition', palette='muted')\n",
    "plt.title('Incidents by Weather Condition')\n",
    "plt.xlabel('Weather Condition')\n",
    "plt.ylabel('Number of Incidents')\n",
    "plt.show()\n"
   ]
  },
  {
   "cell_type": "markdown",
   "metadata": {},
   "source": [
    "# 5. Incidents by Flight Phase\n",
    "The phase of flight during which an incident occurs can highlight operational risks (e.g., takeoff, landing)."
   ]
  },
  {
   "cell_type": "code",
   "execution_count": 54,
   "metadata": {},
   "outputs": [
    {
     "data": {
      "image/png": "[encoded data removed]",
      "text/plain": [
       "<Figure size 720x432 with 1 Axes>"
      ]
     },
     "metadata": {
      "needs_background": "light"
     },
     "output_type": "display_data"
    }
   ],
   "source": [
    "# Plot incidents based on flight phase\n",
    "plt.figure(figsize=(10,6))\n",
    "sns.countplot(data=data, x='Broad.phase.of.flight', palette='Set3', order=data['Broad.phase.of.flight'].value_counts().index)\n",
    "plt.xticks(rotation=45)\n",
    "plt.title('Incidents by Flight Phase')\n",
    "plt.xlabel('Flight Phase')\n",
    "plt.ylabel('Number of Incidents')\n",
    "plt.show()\n"
   ]
  },
  {
   "cell_type": "markdown",
   "metadata": {},
   "source": [
    "# 6. Heatmap of Correlations between Features\n",
    "A heatmap can show correlations between numerical variables, helping identify factors that are strongly related to the risk of incidents."
   ]
  },
  {
   "cell_type": "code",
   "execution_count": 55,
   "metadata": {},
   "outputs": [
    {
     "data": {
      "image/png": "[encoded data removed]",
      "text/plain": [
       "<Figure size 720x576 with 2 Axes>"
      ]
     },
     "metadata": {
      "needs_background": "light"
     },
     "output_type": "display_data"
    }
   ],
   "source": [
    "# Create a heatmap of the correlation matrix\n",
    "plt.figure(figsize=(10,8))\n",
    "corr = data.corr()\n",
    "sns.heatmap(corr, annot=True, cmap='coolwarm', linewidths=0.5)\n",
    "plt.title('Correlation Heatmap of Numerical Features')\n",
    "plt.show()\n"
   ]
  },
  {
   "cell_type": "markdown",
   "metadata": {},
   "source": [
    "# 7. Pairplot for Risk Factors\n",
    "A pairplot shows relationships between multiple numerical features, helping you explore potential risk factors."
   ]
  },
  {
   "cell_type": "code",
   "execution_count": 56,
   "metadata": {},
   "outputs": [
    {
     "data": {
      "image/png": "[encoded data removed]",
      "text/plain": [
       "<Figure size 720x720 with 20 Axes>"
      ]
     },
     "metadata": {
      "needs_background": "light"
     },
     "output_type": "display_data"
    }
   ],
   "source": [
    "# Pairplot for key numerical features\n",
    "sns.pairplot(data[['Total.Fatal.Injuries', 'Total.Serious.Injuries', 'Total.Minor.Injuries', 'Number.of.Engines']])\n",
    "plt.show()\n"
   ]
  },
  {
   "cell_type": "markdown",
   "metadata": {},
   "source": [
    "# DETAILED ANALYSIS"
   ]
  },
  {
   "cell_type": "markdown",
   "metadata": {},
   "source": [
    "# 1. Detailed Analysis of Incidents by Aircraft Make\n",
    "This analysis will help determine which specific aircraft types are more frequently involved in incidents, focusing on key makes."
   ]
  },
  {
   "cell_type": "code",
   "execution_count": 57,
   "metadata": {},
   "outputs": [
    {
     "data": {
      "image/png": "[encoded data removed]",
      "text/plain": [
       "<Figure size 864x432 with 1 Axes>"
      ]
     },
     "metadata": {
      "needs_background": "light"
     },
     "output_type": "display_data"
    }
   ],
   "source": [
    "# Plot the top 10 aircraft makes with the highest number of incidents\n",
    "plt.figure(figsize=(12,6))\n",
    "top_makes = data['Make'].value_counts().head(10)  # Top 10 makes\n",
    "sns.barplot(x=top_makes.index, y=top_makes.values, palette='inferno')\n",
    "plt.xticks(rotation=90)\n",
    "plt.title('Top 10 Aircraft Makes with Highest Number of Incidents')\n",
    "plt.xlabel('Aircraft Make')\n",
    "plt.ylabel('Number of Incidents')\n",
    "plt.show()\n"
   ]
  },
  {
   "cell_type": "markdown",
   "metadata": {},
   "source": [
    "# 2. Distribution of Fatal Incidents by Aircraft Make\n",
    "Focusing on fatal incidents, we can see which makes are involved in the most severe accidents."
   ]
  },
  {
   "cell_type": "code",
   "execution_count": 58,
   "metadata": {},
   "outputs": [
    {
     "data": {
      "image/png": "[encoded data removed]",
      "text/plain": [
       "<Figure size 864x432 with 1 Axes>"
      ]
     },
     "metadata": {
      "needs_background": "light"
     },
     "output_type": "display_data"
    }
   ],
   "source": [
    "# Filter for fatal incidents and plot the top 10 aircraft makes\n",
    "fatal_incidents = data[data['Injury.Severity'] == 'Fatal']\n",
    "top_fatal_makes = fatal_incidents['Make'].value_counts().head(10)\n",
    "\n",
    "plt.figure(figsize=(12,6))\n",
    "sns.barplot(x=top_fatal_makes.index, y=top_fatal_makes.values, palette='Reds')\n",
    "plt.xticks(rotation=90)\n",
    "plt.title('Top 10 Aircraft Makes Involved in Fatal Incidents')\n",
    "plt.xlabel('Aircraft Make')\n",
    "plt.ylabel('Number of Fatal Incidents')\n",
    "plt.show()\n"
   ]
  },
  {
   "cell_type": "markdown",
   "metadata": {},
   "source": [
    "# 3. Incidents by Flight Phase\n",
    "Next, I will analyze which phases of flight carry the most risk, focusing on the broad phases of flight such as landing, takeoff, or cruise."
   ]
  },
  {
   "cell_type": "code",
   "execution_count": 59,
   "metadata": {},
   "outputs": [
    {
     "data": {
      "image/png": "[encoded data removed]",
      "text/plain": [
       "<Figure size 864x432 with 1 Axes>"
      ]
     },
     "metadata": {
      "needs_background": "light"
     },
     "output_type": "display_data"
    }
   ],
   "source": [
    "# Plot incidents by flight phase\n",
    "plt.figure(figsize=(12,6))\n",
    "flight_phase_counts = data['Broad.phase.of.flight'].value_counts()\n",
    "\n",
    "sns.barplot(x=flight_phase_counts.index, y=flight_phase_counts.values, palette='Set2')\n",
    "plt.xticks(rotation=45)\n",
    "plt.title('Incidents by Flight Phase')\n",
    "plt.xlabel('Flight Phase')\n",
    "plt.ylabel('Number of Incidents')\n",
    "plt.show()\n"
   ]
  },
  {
   "cell_type": "markdown",
   "metadata": {},
   "source": [
    "# 4. Fatal Incidents by Flight Phase\n",
    "Focusing on fatal incidents by flight phase can highlight which phases of flight are the most dangerous."
   ]
  },
  {
   "cell_type": "code",
   "execution_count": 60,
   "metadata": {},
   "outputs": [
    {
     "data": {
      "image/png": "[encoded data removed]",
      "text/plain": [
       "<Figure size 864x432 with 1 Axes>"
      ]
     },
     "metadata": {
      "needs_background": "light"
     },
     "output_type": "display_data"
    }
   ],
   "source": [
    "# Filter for fatal incidents and plot the distribution by flight phase\n",
    "fatal_phase_counts = fatal_incidents['Broad.phase.of.flight'].value_counts()\n",
    "\n",
    "plt.figure(figsize=(12,6))\n",
    "sns.barplot(x=fatal_phase_counts.index, y=fatal_phase_counts.values, palette='coolwarm')\n",
    "plt.xticks(rotation=45)\n",
    "plt.title('Fatal Incidents by Flight Phase')\n",
    "plt.xlabel('Flight Phase')\n",
    "plt.ylabel('Number of Fatal Incidents')\n",
    "plt.show()\n"
   ]
  },
  {
   "cell_type": "markdown",
   "metadata": {},
   "source": [
    "# 5. Heatmap of Aircraft Make vs. Flight Phase\n",
    "To better understand which makes are involved in incidents during different flight phases, we can use a heatmap for visualization."
   ]
  },
  {
   "cell_type": "code",
   "execution_count": 61,
   "metadata": {},
   "outputs": [
    {
     "data": {
      "image/png": "[encoded data removed]",
      "text/plain": [
       "<Figure size 864x576 with 2 Axes>"
      ]
     },
     "metadata": {
      "needs_background": "light"
     },
     "output_type": "display_data"
    }
   ],
   "source": [
    "# Create a pivot table for aircraft make and flight phase\n",
    "make_phase_pivot = data.pivot_table(index='Make', columns='Broad.phase.of.flight', aggfunc='size', fill_value=0)\n",
    "\n",
    "# Plot a heatmap\n",
    "plt.figure(figsize=(12,8))\n",
    "sns.heatmap(make_phase_pivot, cmap='Blues', linewidths=0.5)\n",
    "plt.title('Heatmap of Aircraft Make vs. Flight Phase Incidents')\n",
    "plt.xlabel('Flight Phase')\n",
    "plt.ylabel('Aircraft Make')\n",
    "plt.show()\n"
   ]
  },
  {
   "cell_type": "markdown",
   "metadata": {},
   "source": [
    "# 6. Comparison of Incident Types (Fatal vs Non-fatal) by Flight Phase\n",
    "I can analyze how different flight phases contribute to either fatal or non-fatal incidents."
   ]
  },
  {
   "cell_type": "code",
   "execution_count": 62,
   "metadata": {},
   "outputs": [
    {
     "data": {
      "image/png": "[encoded data removed]",
      "text/plain": [
       "<Figure size 864x432 with 1 Axes>"
      ]
     },
     "metadata": {
      "needs_background": "light"
     },
     "output_type": "display_data"
    }
   ],
   "source": [
    "# Filter non-fatal incidents\n",
    "non_fatal_incidents = data[data['Injury.Severity'] != 'Fatal']\n",
    "\n",
    "# Plot fatal vs non-fatal incidents by flight phase\n",
    "plt.figure(figsize=(12,6))\n",
    "sns.countplot(data=fatal_incidents, x='Broad.phase.of.flight', color='red', label='Fatal Incidents', order=data['Broad.phase.of.flight'].value_counts().index)\n",
    "sns.countplot(data=non_fatal_incidents, x='Broad.phase.of.flight', color='blue', label='Non-Fatal Incidents')\n",
    "plt.xticks(rotation=45)\n",
    "plt.legend()\n",
    "plt.title('Fatal vs Non-Fatal Incidents by Flight Phase')\n",
    "plt.xlabel('Flight Phase')\n",
    "plt.ylabel('Number of Incidents')\n",
    "plt.show()\n"
   ]
  },
  {
   "cell_type": "code",
   "execution_count": 63,
   "metadata": {},
   "outputs": [],
   "source": [
    "# Saving the cleaned DataFrame to a CSV file\n",
    "#data.to_csv('cleaned_aircraft_data.csv', index=False)\n"
   ]
  },
  {
   "cell_type": "code",
   "execution_count": 64,
   "metadata": {},
   "outputs": [],
   "source": [
    "# Saving the cleaned DataFrame to an Excel file\n",
    "data.to_excel('cleaned_aircraft_data.xlsx', index=False)\n"
   ]
  },
  {
   "cell_type": "code",
   "execution_count": null,
   "metadata": {},
   "outputs": [],
   "source": []
  }
 ],
 "metadata": {
  "kernelspec": {
   "display_name": "Python 3",
   "language": "python",
   "name": "python3"
  },
  "language_info": {
   "codemirror_mode": {
    "name": "ipython",
    "version": 3
   },
   "file_extension": ".py",
   "mimetype": "text/x-python",
   "name": "python",
   "nbconvert_exporter": "python",
   "pygments_lexer": "ipython3",
   "version": "3.8.5"
  }
 },
 "nbformat": 4,
 "nbformat_minor": 2
}
